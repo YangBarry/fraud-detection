{
 "cells": [
  {
   "cell_type": "markdown",
   "metadata": {},
   "source": [
    "## Keras NN Starter Kernel"
   ]
  },
  {
   "cell_type": "code",
   "execution_count": 1,
   "metadata": {
    "_cell_guid": "b1076dfc-b9ad-4769-8c92-a6c4dae69d19",
    "_kg_hide-input": false,
    "_uuid": "8f2839f25d086af736a60e9eeb907d3b93b6e0e5"
   },
   "outputs": [],
   "source": [
    "#  Libraries\n",
    "import numpy as np \n",
    "import pandas as pd \n",
    "# Data processing, metrics and modeling\n",
    "from sklearn.preprocessing import LabelEncoder\n",
    "from sklearn.model_selection import train_test_split, StratifiedKFold,KFold\n",
    "from datetime import datetime\n",
    "from sklearn.metrics import precision_score, recall_score, confusion_matrix, accuracy_score, roc_auc_score, f1_score, roc_curve, auc,precision_recall_curve\n",
    "from sklearn import metrics\n",
    "from sklearn import preprocessing\n",
    "# Suppr warning\n",
    "import warnings\n",
    "warnings.filterwarnings(\"ignore\")\n",
    "\n",
    "import itertools\n",
    "from scipy import interp\n",
    "# Plots\n",
    "import seaborn as sns\n",
    "import matplotlib.pyplot as plt\n",
    "%matplotlib inline\n",
    "from matplotlib import rcParams"
   ]
  },
  {
   "cell_type": "markdown",
   "metadata": {},
   "source": [
    "## Data Loading\n",
    "Just the standard loading of the data used in most other kernels. "
   ]
  },
  {
   "cell_type": "code",
   "execution_count": 2,
   "metadata": {
    "tags": []
   },
   "outputs": [
    {
     "output_type": "stream",
     "name": "stdout",
     "text": "CPU times: user 3.69 s, sys: 504 ms, total: 4.19 s\nWall time: 4.51 s\n"
    }
   ],
   "source": [
    "%%time\n",
    "train_transaction = pd.read_csv('newtrain_transaction_200000.csv', index_col='TransactionID')\n",
    "test_transaction = pd.read_csv('newtest_transaction_withoutlabel.csv', index_col='TransactionID')\n",
    "train_identity = pd.read_csv('newtrain_identity.csv', index_col='TransactionID')\n",
    "test_identity = pd.read_csv('newtest_identity.csv', index_col='TransactionID')\n",
    "sample_submission = pd.read_csv('newsample_submission.csv', index_col='TransactionID')"
   ]
  },
  {
   "cell_type": "code",
   "execution_count": 3,
   "metadata": {
    "tags": []
   },
   "outputs": [
    {
     "output_type": "stream",
     "name": "stdout",
     "text": "Train shape : (80397, 433)\nTest shape  : (10000, 432)\n"
    }
   ],
   "source": [
    "# merge \n",
    "train_df = train_transaction.merge(train_identity, how='left', left_index=True, right_index=True)\n",
    "test_df = test_transaction.merge(test_identity, how='left', left_index=True, right_index=True)\n",
    "\n",
    "print(\"Train shape : \"+str(train_df.shape))\n",
    "print(\"Test shape  : \"+str(test_df.shape))"
   ]
  },
  {
   "cell_type": "markdown",
   "metadata": {},
   "source": [
    "Dropping time since this likely isnt something we want our model to directly learn from"
   ]
  },
  {
   "cell_type": "code",
   "execution_count": 4,
   "metadata": {},
   "outputs": [],
   "source": [
    "train_df = train_df.drop([\"TransactionDT\"], axis = 1)\n",
    "test_df = test_df.drop([\"TransactionDT\"], axis = 1)"
   ]
  },
  {
   "cell_type": "code",
   "execution_count": 5,
   "metadata": {},
   "outputs": [],
   "source": [
    "train_df = train_df.reset_index()\n",
    "test_df = test_df.reset_index()"
   ]
  },
  {
   "cell_type": "code",
   "execution_count": 6,
   "metadata": {},
   "outputs": [],
   "source": [
    "train_df['nulls1'] = train_df.isna().sum(axis=1)\n",
    "test_df['nulls1'] = test_df.isna().sum(axis=1)"
   ]
  },
  {
   "cell_type": "markdown",
   "metadata": {},
   "source": [
    "Selecting just the first set of columns and excluding the synthetic \"v\" features and other very sparse categoricals like deviceinfo and deviceid"
   ]
  },
  {
   "cell_type": "code",
   "execution_count": 7,
   "metadata": {},
   "outputs": [],
   "source": [
    "train_df = train_df.iloc[:, :55]\n",
    "test_df = test_df.iloc[:, :54]"
   ]
  },
  {
   "cell_type": "code",
   "execution_count": 8,
   "metadata": {},
   "outputs": [],
   "source": [
    "del train_transaction, train_identity, test_transaction, test_identity"
   ]
  },
  {
   "cell_type": "code",
   "execution_count": 9,
   "metadata": {},
   "outputs": [],
   "source": [
    "emails = {'gmail': 'google', 'att.net': 'att', 'twc.com': 'spectrum', 'scranton.edu': 'other', 'optonline.net': 'other', 'hotmail.co.uk': 'microsoft', 'comcast.net': 'other', 'yahoo.com.mx': 'yahoo', 'yahoo.fr': 'yahoo', 'yahoo.es': 'yahoo', 'charter.net': 'spectrum', 'live.com': 'microsoft', 'aim.com': 'aol', 'hotmail.de': 'microsoft', 'centurylink.net': 'centurylink', 'gmail.com': 'google', 'me.com': 'apple', 'earthlink.net': 'other', 'gmx.de': 'other', 'web.de': 'other', 'cfl.rr.com': 'other', 'hotmail.com': 'microsoft', 'protonmail.com': 'other', 'hotmail.fr': 'microsoft', 'windstream.net': 'other', 'outlook.es': 'microsoft', 'yahoo.co.jp': 'yahoo', 'yahoo.de': 'yahoo', 'servicios-ta.com': 'other', 'netzero.net': 'other', 'suddenlink.net': 'other', 'roadrunner.com': 'other', 'sc.rr.com': 'other', 'live.fr': 'microsoft', 'verizon.net': 'yahoo', 'msn.com': 'microsoft', 'q.com': 'centurylink', 'prodigy.net.mx': 'att', 'frontier.com': 'yahoo', 'anonymous.com': 'other', 'rocketmail.com': 'yahoo', 'sbcglobal.net': 'att', 'frontiernet.net': 'yahoo', 'ymail.com': 'yahoo', 'outlook.com': 'microsoft', 'mail.com': 'other', 'bellsouth.net': 'other', 'embarqmail.com': 'centurylink', 'cableone.net': 'other', 'hotmail.es': 'microsoft', 'mac.com': 'apple', 'yahoo.co.uk': 'yahoo', 'netzero.com': 'other', 'yahoo.com': 'yahoo', 'live.com.mx': 'microsoft', 'ptd.net': 'other', 'cox.net': 'other', 'aol.com': 'aol', 'juno.com': 'other', 'icloud.com': 'apple'}\n",
    "us_emails = ['gmail', 'net', 'edu']\n",
    "#https://www.kaggle.com/c/ieee-fraud-detection/discussion/100499#latest_df-579654\n",
    "for c in ['P_emaildomain', 'R_emaildomain']:\n",
    "    train_df[c + '_bin'] = train_df[c].map(emails)\n",
    "    test_df[c + '_bin'] = test_df[c].map(emails)\n",
    "    \n",
    "    train_df[c + '_suffix'] = train_df[c].map(lambda x: str(x).split('.')[-1])\n",
    "    test_df[c + '_suffix'] = test_df[c].map(lambda x: str(x).split('.')[-1])\n",
    "    \n",
    "    train_df[c + '_suffix'] = train_df[c + '_suffix'].map(lambda x: x if str(x) not in us_emails else 'us')\n",
    "    test_df[c + '_suffix'] = test_df[c + '_suffix'].map(lambda x: x if str(x) not in us_emails else 'us')"
   ]
  },
  {
   "cell_type": "code",
   "execution_count": null,
   "metadata": {},
   "outputs": [],
   "source": []
  },
  {
   "cell_type": "code",
   "execution_count": 10,
   "metadata": {},
   "outputs": [],
   "source": [
    "for c1, c2 in train_df.dtypes.reset_index().values:\n",
    "    if c2=='O':\n",
    "        train_df[c1] = train_df[c1].map(lambda x: str(x).lower())\n",
    "        test_df[c1] = test_df[c1].map(lambda x: str(x).lower())"
   ]
  },
  {
   "cell_type": "markdown",
   "metadata": {},
   "source": [
    "## Numerical and Categorical\n",
    "Listing off and categorizing the various variables available to us. We have numerical and categoricals. We will treat both of these slightly differently later"
   ]
  },
  {
   "cell_type": "code",
   "execution_count": 12,
   "metadata": {},
   "outputs": [],
   "source": [
    "numerical = [\"TransactionAmt\", \"nulls1\", \"dist1\", \"dist2\"] + [\"C\" + str(i) for i in range(1, 15)] + \\\n",
    "            [\"D\" + str(i) for i in range(1, 16)] + \\\n",
    "            [\"V\" + str(i) for i in range(1, 340)]\n",
    "categorical = [\"ProductCD\", \"card1\", \"card2\", \"card3\", \"card4\", \"card5\", \"card6\", \"addr1\", \"addr2\",\n",
    "               \"P_emaildomain_bin\", \"P_emaildomain_suffix\", \"R_emaildomain_bin\", \"R_emaildomain_suffix\",\n",
    "               \"P_emaildomain\", \"R_emaildomain\",\n",
    "              \"DeviceInfo\", \"DeviceType\"] + [\"id_0\" + str(i) for i in range(1, 10)] +\\\n",
    "                [\"id_\" + str(i) for i in range(10, 39)] + \\\n",
    "                 [\"M\" + str(i) for i in range(1, 10)]\n"
   ]
  },
  {
   "cell_type": "markdown",
   "metadata": {},
   "source": [
    "We already dropped a lot of these features because in some trial and error it was shown that these caused rapid overfitting for some reason or otherwise introduced unnecessary noise into the data. We will make sure we only list the features we actually have still in the df now"
   ]
  },
  {
   "cell_type": "code",
   "execution_count": 13,
   "metadata": {},
   "outputs": [],
   "source": [
    "numerical = [col for col in numerical if col in train_df.columns]\n",
    "categorical = [col for col in categorical if col in train_df.columns]"
   ]
  },
  {
   "cell_type": "markdown",
   "metadata": {},
   "source": [
    "NN doesn't like nans so we will fill numerical columns with 0's. Previous people have tried plugging in the column means, but upon inspection this didn't seem very reliable because the train and test means for a given column could sometimes be drastically different. Plugging in zeros likely isnt the best. Might be better to plug in the train mean to the test df, but for simplicity I will stick with 0's for now. "
   ]
  },
  {
   "cell_type": "code",
   "execution_count": 14,
   "metadata": {},
   "outputs": [],
   "source": [
    "def nan2mean(df):\n",
    "    for x in list(df.columns.values):\n",
    "        if x in numerical:\n",
    "            df[x] = df[x].fillna(0)\n",
    "    return df\n",
    "train_df=nan2mean(train_df)\n",
    "test_df=nan2mean(test_df)"
   ]
  },
  {
   "cell_type": "markdown",
   "metadata": {},
   "source": [
    "## Label Encoding\n",
    "We will take our categorical features fill the nans and assign them an integer ID per category and write down the number of total categories per column. We'll use this later in an embedding layer of the NN"
   ]
  },
  {
   "cell_type": "code",
   "execution_count": 15,
   "metadata": {},
   "outputs": [],
   "source": [
    "# Label Encoding\n",
    "category_counts = {}\n",
    "for f in categorical:\n",
    "    train_df[f] = train_df[f].replace(\"nan\", \"other\")\n",
    "    train_df[f] = train_df[f].replace(np.nan, \"other\")\n",
    "    test_df[f] = test_df[f].replace(\"nan\", \"other\")\n",
    "    test_df[f] = test_df[f].replace(np.nan, \"other\")\n",
    "    lbl = preprocessing.LabelEncoder()\n",
    "    lbl.fit(list(train_df[f].values) + list(test_df[f].values))\n",
    "    train_df[f] = lbl.transform(list(train_df[f].values))\n",
    "    test_df[f] = lbl.transform(list(test_df[f].values))\n",
    "    category_counts[f] = len(list(lbl.classes_)) + 1"
   ]
  },
  {
   "cell_type": "code",
   "execution_count": 41,
   "metadata": {},
   "outputs": [],
   "source": [
    "from sklearn.preprocessing import StandardScaler"
   ]
  },
  {
   "cell_type": "markdown",
   "metadata": {},
   "source": [
    "## Numerical Scaling\n",
    "\n",
    "Now we will do some scaling of the data so that it will be in a more NN friendly format. First we will do log1p for any values that are above 100 and not below 0. This is in order to scale down any numerical variables that might have some extremely high values that screws up the statistics of the standard scaler \n",
    "\n",
    "After that we will pass them through the standard scaler so that the values have a normal mean and std. This makes the NN converge signficantly faster and prevents any blowouts. Feel free to try for yourself by commenting out this cell of code"
   ]
  },
  {
   "cell_type": "code",
   "execution_count": 42,
   "metadata": {},
   "outputs": [],
   "source": [
    "for column in numerical:\n",
    "    scaler = StandardScaler()\n",
    "    if train_df[column].max() > 100 and train_df[column].min() >= 0:\n",
    "        train_df[column] = np.log1p(train_df[column])\n",
    "        test_df[column] = np.log1p(test_df[column])\n",
    "    scaler.fit(np.concatenate([train_df[column].values.reshape(-1,1), test_df[column].values.reshape(-1,1)]))\n",
    "    train_df[column] = scaler.transform(train_df[column].values.reshape(-1,1))\n",
    "    test_df[column] = scaler.transform(test_df[column].values.reshape(-1,1))"
   ]
  },
  {
   "cell_type": "code",
   "execution_count": 43,
   "metadata": {},
   "outputs": [],
   "source": [
    "target = 'isFraud'"
   ]
  },
  {
   "cell_type": "code",
   "execution_count": 44,
   "metadata": {
    "_kg_hide-input": true
   },
   "outputs": [],
   "source": [
    "#cut tr and val\n",
    "tr_df, val_df = train_test_split(train_df, test_size = 0.2, random_state = 42, shuffle = False)\n",
    "from copy import deepcopy\n",
    "val_df_pred = deepcopy(val_df)"
   ]
  },
  {
   "cell_type": "markdown",
   "metadata": {},
   "source": [
    "Grabbing the features we want to pass into the neural network"
   ]
  },
  {
   "cell_type": "code",
   "execution_count": 45,
   "metadata": {},
   "outputs": [],
   "source": [
    "def get_input_features(df):\n",
    "    X = {'numerical':np.array(df[numerical])}\n",
    "    for cat in categorical:\n",
    "        X[cat] = np.array(df[cat])\n",
    "    return X"
   ]
  },
  {
   "cell_type": "markdown",
   "metadata": {},
   "source": [
    "## Neural Network Model Details\n",
    "\n",
    "Our neural network will be fairly standard. We will use the embedding layer for categoricals and the numericals will go through feed forward dense layers. \n",
    "\n",
    "We create our embedding layers such that we have as many rows as we had categories and the dimension of the embedding is the log1p + 1 of the number of categories. So this means that categorical variables with very high cardinality will have more dimensions but not signficantly more so the information will still be compressed down to only about 13 dimensions and the smaller number of categories will be only 2-3.\n",
    "\n",
    "We will then pass the embeddings through a spatial dropout layer which will drop dimensions within the embedding across batches and then flatten and concatenate. Then we will concatenate this to the numerical features and apply batch norm and then add some more dense layers after. "
   ]
  },
  {
   "cell_type": "code",
   "execution_count": 46,
   "metadata": {
    "tags": []
   },
   "outputs": [],
   "source": [
    "import keras.backend as K\n",
    "\n",
    "# loss function\n",
    "def f1(y_true, y_pred):\n",
    "    true_positives = K.sum(K.round(K.clip(y_true * y_pred, 0, 1)))\n",
    "    possible_positives = K.sum(K.round(K.clip(y_true, 0, 1)))\n",
    "    predicted_positives = K.sum(K.round(K.clip(y_pred, 0, 1)))\n",
    "    precision = true_positives / (predicted_positives + K.epsilon())\n",
    "    recall = true_positives / (possible_positives + K.epsilon())\n",
    "    f1_val = 2*(precision*recall)/(precision+recall+K.epsilon())\n",
    "    return f1_val  "
   ]
  },
  {
   "cell_type": "code",
   "execution_count": 47,
   "metadata": {},
   "outputs": [],
   "source": [
    "from keras.layers import Concatenate, Input, Dense, Embedding, Flatten, Dropout, BatchNormalization, SpatialDropout1D\n",
    "from keras.callbacks import ModelCheckpoint, ReduceLROnPlateau\n",
    "from keras.models import Model\n",
    "from keras.optimizers import  Adam\n",
    "import keras.backend as k\n",
    "\n",
    "#from livelossplot import PlotLossesKeras\n",
    "\n",
    "def make_model():\n",
    "    k.clear_session()\n",
    "\n",
    "    categorical_inputs = []\n",
    "    for cat in categorical:\n",
    "        categorical_inputs.append(Input(shape=[1], name=cat))\n",
    "\n",
    "    categorical_embeddings = []\n",
    "    \n",
    "    ## embedding layer:\n",
    "    ## The first argument is the number of distinct values in the training set. \n",
    "    ## The second argument indicates the size of the embedding vectors.\n",
    "    ## Once the network has been trained, we can get the weights of the embedding layer, \n",
    "    ## which can be thought as the table used to map integers to embedding vectors\n",
    "\n",
    "    for i, cat in enumerate(categorical):\n",
    "        categorical_embeddings.append(\n",
    "            Embedding(category_counts[cat], int(np.log1p(category_counts[cat]) + 1), name = cat + \"_embed\")(categorical_inputs[i]))\n",
    "\n",
    "    categorical_logits = Concatenate(name = \"categorical_conc\")([Flatten()(SpatialDropout1D(.1)(cat_emb)) for cat_emb in categorical_embeddings])\n",
    "#     categorical_logits = Dropout(.5)(categorical_logits)\n",
    "\n",
    "    numerical_inputs = Input(shape=[tr_df[numerical].shape[1]], name = 'numerical')\n",
    "    numerical_logits = Dropout(.1)(numerical_inputs)\n",
    "  \n",
    "    x = Concatenate()([\n",
    "        categorical_logits, \n",
    "        numerical_logits,\n",
    "    ])\n",
    "#     x = categorical_logits\n",
    "#     x = BatchNormalization()(x)\n",
    "    x = Dense(200, activation = 'relu')(x)\n",
    "    x = Dropout(.2)(x)\n",
    "    x = Dense(100, activation = 'relu')(x)\n",
    "    x = Dropout(.2)(x)\n",
    "    out = Dense(1, activation = 'sigmoid')(x)\n",
    "    \n",
    "\n",
    "    model = Model(inputs=categorical_inputs + [numerical_inputs],outputs=out)\n",
    "    loss = \"binary_crossentropy\"\n",
    "    model.compile(optimizer=Adam(lr = 0.01), loss = loss, metrics=[f1])\n",
    "    #model.summary()\n",
    "    return model\n"
   ]
  },
  {
   "cell_type": "markdown",
   "metadata": {},
   "source": [
    "We will then extract the features we actually want to pass to the NN"
   ]
  },
  {
   "cell_type": "markdown",
   "metadata": {},
   "source": [
    "We will iterate through epochs of the model and save the model weights if the score is an improvement upon previous best roc_auc_scores since this is competition metric. If the NN does not improve upon previous best after 4 epochs we will skip the rest of the training steps to save time. "
   ]
  },
  {
   "cell_type": "code",
   "execution_count": 48,
   "metadata": {},
   "outputs": [],
   "source": [
    "from copy import deepcopy"
   ]
  },
  {
   "cell_type": "code",
   "execution_count": 49,
   "metadata": {},
   "outputs": [],
   "source": [
    "categorical_save = deepcopy(categorical)\n",
    "numerical_save = deepcopy(numerical)"
   ]
  },
  {
   "cell_type": "markdown",
   "metadata": {},
   "source": [
    "## Greedy Feature Selection\n",
    "\n",
    "First we will train the NN with all categorical and numerical features in order to make a baseline\n",
    "\n",
    "After that we will greedily drop one feature at a time and see if it increases or decreases performance. If it increases upon dropping the feature then we will drop the feature. If it decreases then it will stay. "
   ]
  },
  {
   "cell_type": "code",
   "execution_count": 50,
   "metadata": {},
   "outputs": [],
   "source": [
    "# evaluation function\n",
    "def compute_loss(df_pred, df_true, size):\n",
    "    fraud_set = set(df_true[df_true['isFraud']==1]['TransactionID'])\n",
    "    print(len(fraud_set))\n",
    "    cutoff = df_pred['isFraud'].nlargest(size).iloc[-1]\n",
    "    print('cutoff',cutoff)\n",
    "    pass_set = set(df_pred[df_pred['isFraud']<cutoff]['TransactionID'])\n",
    "    fraud_miss = fraud_set & pass_set\n",
    "    df_fraud_miss = df_true[df_true['TransactionID'].isin(fraud_miss)]\n",
    "    print('missed_fraud',df_fraud_miss.shape[0])\n",
    "    loss = df_fraud_miss['TransactionAmt'].sum()\n",
    "    print('mean missed fraud amt',loss/df_fraud_miss.shape[0])\n",
    "    return loss  "
   ]
  },
  {
   "cell_type": "code",
   "execution_count": 51,
   "metadata": {
    "scrolled": false,
    "tags": []
   },
   "outputs": [
    {
     "output_type": "stream",
     "name": "stdout",
     "text": "Train on 64317 samples, validate on 16080 samples\nEpoch 1/1\n64317/64317 [==============================] - 11s 173us/step - loss: 0.2562 - f1: 0.0058 - val_loss: 0.1168 - val_f1: 0.0000e+00\n16080/16080 [==============================] - 2s 121us/step\n448\ncutoff 0.03107959\nmissed_fraud 222\nmean missed fraud amt 0.13391184559760663\n29.728429722668675\nTrain on 64317 samples, validate on 16080 samples\nEpoch 1/1\n64317/64317 [==============================] - 2s 26us/step - loss: 0.1126 - f1: 0.0000e+00 - val_loss: 0.1019 - val_f1: 0.0000e+00\n16080/16080 [==============================] - 0s 9us/step\n448\ncutoff 0.06029868\nmissed_fraud 212\nmean missed fraud amt 0.0220367923357662\n4.671799975182434\nTrain on 64317 samples, validate on 16080 samples\nEpoch 1/1\n64317/64317 [==============================] - 2s 32us/step - loss: 0.0964 - f1: 0.0000e+00 - val_loss: 0.0949 - val_f1: 0.0000e+00\n16080/16080 [==============================] - 0s 10us/step\n448\ncutoff 0.07958478\nmissed_fraud 186\nmean missed fraud amt 0.07286023494791678\n13.552003700312522\n"
    }
   ],
   "source": [
    "# following code is using a stopping criteria based real loss\n",
    "X_train = get_input_features(tr_df)\n",
    "X_valid = get_input_features(val_df)\n",
    "X_test = get_input_features(test_df)\n",
    "y_train = tr_df[target]\n",
    "y_valid = val_df[target]\n",
    "model = make_model()\n",
    "best_score = 0\n",
    "patience = 0\n",
    "for i in range(100):\n",
    "    if patience < 3:\n",
    "        hist = model.fit(X_train, y_train, validation_data = (X_valid,y_valid), \n",
    "                         batch_size = 8000, epochs = 1, verbose = 1)\n",
    "                        #,callbacks=[PlotLossesKeras()])\n",
    "        valid_preds = model.predict(X_valid, batch_size = 8000, verbose = True)\n",
    "        val_df_pred[target]=valid_preds\n",
    "        score = compute_loss(val_df_pred, val_df, 1600)\n",
    "        print(score)\n",
    "        if score < best_score:\n",
    "            model.save_weights(\"model.h5\")\n",
    "            best_score = score\n",
    "            patience = 0\n",
    "        else:\n",
    "            patience += 1"
   ]
  },
  {
   "cell_type": "markdown",
   "metadata": {},
   "source": [
    "Dropping categoricals"
   ]
  },
  {
   "cell_type": "code",
   "execution_count": 52,
   "metadata": {},
   "outputs": [],
   "source": [
    "drop_cats = []"
   ]
  },
  {
   "cell_type": "code",
   "execution_count": 53,
   "metadata": {
    "tags": []
   },
   "outputs": [
    {
     "output_type": "stream",
     "name": "stdout",
     "text": "['card1', 'card2', 'card3', 'card4', 'card5', 'card6', 'addr1', 'addr2', 'P_emaildomain_bin', 'P_emaildomain_suffix', 'R_emaildomain_bin', 'R_emaildomain_suffix', 'P_emaildomain', 'R_emaildomain', 'M1', 'M2', 'M3', 'M4', 'M5', 'M6', 'M7', 'M8', 'M9']\n448\ncutoff 0.010472029\nmissed_fraud 234\nmean missed fraud amt 0.10669705482969181\n448\ncutoff 0.08935213\nmissed_fraud 196\nmean missed fraud amt -0.02983534829178985\n448\ncutoff 0.05624649\nmissed_fraud 173\nmean missed fraud amt 0.0950208855017428\n448\ncutoff 0.0770714\nmissed_fraud 169\nmean missed fraud amt 0.10375989439711727\n448\ncutoff 0.05182028\nmissed_fraud 162\nmean missed fraud amt 0.11511115087681065\nperformance increased when ProductCD dropped to -5.847728265190811 from 0\n['card2', 'card3', 'card4', 'card5', 'card6', 'addr1', 'addr2', 'P_emaildomain_bin', 'P_emaildomain_suffix', 'R_emaildomain_bin', 'R_emaildomain_suffix', 'P_emaildomain', 'R_emaildomain', 'M1', 'M2', 'M3', 'M4', 'M5', 'M6', 'M7', 'M8', 'M9']\n448\ncutoff 0.029973924\nmissed_fraud 230\nmean missed fraud amt 0.09419411823608649\n448\ncutoff 0.06473863\nmissed_fraud 227\nmean missed fraud amt 0.06588427416023114\n448\ncutoff 0.07792634\nmissed_fraud 194\nmean missed fraud amt 0.04916088723963404\nperformance reduced when card1 increased to 0 from -5.847728265190811\n['card1', 'card3', 'card4', 'card5', 'card6', 'addr1', 'addr2', 'P_emaildomain_bin', 'P_emaildomain_suffix', 'R_emaildomain_bin', 'R_emaildomain_suffix', 'P_emaildomain', 'R_emaildomain', 'M1', 'M2', 'M3', 'M4', 'M5', 'M6', 'M7', 'M8', 'M9']\n448\ncutoff 0.015306115\nmissed_fraud 233\nmean missed fraud amt 0.1251614730927892\n448\ncutoff 0.07869759\nmissed_fraud 197\nmean missed fraud amt -0.07469548490506905\n448\ncutoff 0.06077355\nmissed_fraud 187\nmean missed fraud amt 0.0929694424248291\n448\ncutoff 0.07680488\nmissed_fraud 161\nmean missed fraud amt 0.07705104182878196\n448\ncutoff 0.058006793\nmissed_fraud 160\nmean missed fraud amt 0.07720574485540192\nperformance increased when card2 dropped to -14.715010526298602 from -5.847728265190811\n['card1', 'card4', 'card5', 'card6', 'addr1', 'addr2', 'P_emaildomain_bin', 'P_emaildomain_suffix', 'R_emaildomain_bin', 'R_emaildomain_suffix', 'P_emaildomain', 'R_emaildomain', 'M1', 'M2', 'M3', 'M4', 'M5', 'M6', 'M7', 'M8', 'M9']\n448\ncutoff 0.010226756\nmissed_fraud 237\nmean missed fraud amt 0.11030166202371788\n448\ncutoff 0.09670788\nmissed_fraud 191\nmean missed fraud amt 0.001177614460932876\n448\ncutoff 0.04956317\nmissed_fraud 179\nmean missed fraud amt 0.07503871231547428\nperformance reduced when card3 increased to 0 from -14.715010526298602\n['card1', 'card3', 'card5', 'card6', 'addr1', 'addr2', 'P_emaildomain_bin', 'P_emaildomain_suffix', 'R_emaildomain_bin', 'R_emaildomain_suffix', 'P_emaildomain', 'R_emaildomain', 'M1', 'M2', 'M3', 'M4', 'M5', 'M6', 'M7', 'M8', 'M9']\n448\ncutoff 0.0066441894\nmissed_fraud 233\nmean missed fraud amt 0.12964223709496825\n448\ncutoff 0.10192433\nmissed_fraud 193\nmean missed fraud amt -0.005868118049583457\n448\ncutoff 0.045666516\nmissed_fraud 185\nmean missed fraud amt 0.13181904975921682\n448\ncutoff 0.0862833\nmissed_fraud 162\nmean missed fraud amt 0.08519904383597847\n448\ncutoff 0.053007245\nmissed_fraud 156\nmean missed fraud amt 0.07150635042920901\nperformance reduced when card4 increased to -1.1325467835696073 from -14.715010526298602\n['card1', 'card3', 'card4', 'card6', 'addr1', 'addr2', 'P_emaildomain_bin', 'P_emaildomain_suffix', 'R_emaildomain_bin', 'R_emaildomain_suffix', 'P_emaildomain', 'R_emaildomain', 'M1', 'M2', 'M3', 'M4', 'M5', 'M6', 'M7', 'M8', 'M9']\n448\ncutoff 0.007020265\nmissed_fraud 235\nmean missed fraud amt 0.09404083735487172\n448\ncutoff 0.12688845\nmissed_fraud 192\nmean missed fraud amt 0.030013032584167584\n448\ncutoff 0.041338295\nmissed_fraud 186\nmean missed fraud amt 0.059907387120794554\nperformance reduced when card5 increased to 0 from -14.715010526298602\n['card1', 'card3', 'card4', 'card5', 'addr1', 'addr2', 'P_emaildomain_bin', 'P_emaildomain_suffix', 'R_emaildomain_bin', 'R_emaildomain_suffix', 'P_emaildomain', 'R_emaildomain', 'M1', 'M2', 'M3', 'M4', 'M5', 'M6', 'M7', 'M8', 'M9']\n448\ncutoff 0.016909301\nmissed_fraud 225\nmean missed fraud amt 0.10198153882521065\n448\ncutoff 0.07947382\nmissed_fraud 202\nmean missed fraud amt 0.012696061716005711\n448\ncutoff 0.06703943\nmissed_fraud 173\nmean missed fraud amt 0.07079218450750728\nperformance reduced when card6 increased to 0 from -14.715010526298602\n['card1', 'card3', 'card4', 'card5', 'card6', 'addr2', 'P_emaildomain_bin', 'P_emaildomain_suffix', 'R_emaildomain_bin', 'R_emaildomain_suffix', 'P_emaildomain', 'R_emaildomain', 'M1', 'M2', 'M3', 'M4', 'M5', 'M6', 'M7', 'M8', 'M9']\n448\ncutoff 0.012044728\nmissed_fraud 236\nmean missed fraud amt 0.13318722411280545\n448\ncutoff 0.100179315\nmissed_fraud 192\nmean missed fraud amt -0.02236011098417037\n448\ncutoff 0.044151932\nmissed_fraud 182\nmean missed fraud amt 0.05010109277073578\n448\ncutoff 0.09367728\nmissed_fraud 167\nmean missed fraud amt 0.0738563603659924\n448\ncutoff 0.04748434\nmissed_fraud 166\nmean missed fraud amt 0.12355067690279159\nperformance reduced when addr1 increased to -4.293141308960711 from -14.715010526298602\n['card1', 'card3', 'card4', 'card5', 'card6', 'addr1', 'P_emaildomain_bin', 'P_emaildomain_suffix', 'R_emaildomain_bin', 'R_emaildomain_suffix', 'P_emaildomain', 'R_emaildomain', 'M1', 'M2', 'M3', 'M4', 'M5', 'M6', 'M7', 'M8', 'M9']\n448\ncutoff 0.03867483\nmissed_fraud 226\nmean missed fraud amt 0.10652247655534099\n448\ncutoff 0.052207023\nmissed_fraud 197\nmean missed fraud amt -0.014387757629516065\n448\ncutoff 0.087935835\nmissed_fraud 177\nmean missed fraud amt 0.05199576726691351\n448\ncutoff 0.05228421\nmissed_fraud 159\nmean missed fraud amt 0.0587768867705249\n448\ncutoff 0.06829199\nmissed_fraud 151\nmean missed fraud amt 0.08445497258504366\nperformance reduced when addr2 increased to -2.834388253014665 from -14.715010526298602\n['card1', 'card3', 'card4', 'card5', 'card6', 'addr1', 'addr2', 'P_emaildomain_suffix', 'R_emaildomain_bin', 'R_emaildomain_suffix', 'P_emaildomain', 'R_emaildomain', 'M1', 'M2', 'M3', 'M4', 'M5', 'M6', 'M7', 'M8', 'M9']\n448\ncutoff 0.036343127\nmissed_fraud 230\nmean missed fraud amt 0.14596144100020234\n448\ncutoff 0.06656712\nmissed_fraud 198\nmean missed fraud amt 0.004529058139140163\n448\ncutoff 0.08608419\nmissed_fraud 172\nmean missed fraud amt 0.09385814372475755\nperformance reduced when P_emaildomain_bin increased to 0 from -14.715010526298602\n['card1', 'card3', 'card4', 'card5', 'card6', 'addr1', 'addr2', 'P_emaildomain_bin', 'R_emaildomain_bin', 'R_emaildomain_suffix', 'P_emaildomain', 'R_emaildomain', 'M1', 'M2', 'M3', 'M4', 'M5', 'M6', 'M7', 'M8', 'M9']\n448\ncutoff 0.0504438\nmissed_fraud 233\nmean missed fraud amt 0.1788297409119508\n448\ncutoff 0.051748574\nmissed_fraud 197\nmean missed fraud amt 0.03556603819513327\n448\ncutoff 0.099395424\nmissed_fraud 174\nmean missed fraud amt 0.0514181435785494\nperformance reduced when P_emaildomain_suffix increased to 0 from -14.715010526298602\n['card1', 'card3', 'card4', 'card5', 'card6', 'addr1', 'addr2', 'P_emaildomain_bin', 'P_emaildomain_suffix', 'R_emaildomain_suffix', 'P_emaildomain', 'R_emaildomain', 'M1', 'M2', 'M3', 'M4', 'M5', 'M6', 'M7', 'M8', 'M9']\n448\ncutoff 0.019385338\nmissed_fraud 231\nmean missed fraud amt 0.13185120450043783\n448\ncutoff 0.06935364\nmissed_fraud 196\nmean missed fraud amt 0.023150309068034666\n448\ncutoff 0.06888735\nmissed_fraud 175\nmean missed fraud amt 0.029903455587936136\nperformance reduced when R_emaildomain_bin increased to 0 from -14.715010526298602\n['card1', 'card3', 'card4', 'card5', 'card6', 'addr1', 'addr2', 'P_emaildomain_bin', 'P_emaildomain_suffix', 'R_emaildomain_bin', 'P_emaildomain', 'R_emaildomain', 'M1', 'M2', 'M3', 'M4', 'M5', 'M6', 'M7', 'M8', 'M9']\n448\ncutoff 0.05153954\nmissed_fraud 227\nmean missed fraud amt 0.11587883388553362\n448\ncutoff 0.057427496\nmissed_fraud 198\nmean missed fraud amt -0.0058331674444950365\n448\ncutoff 0.07483554\nmissed_fraud 171\nmean missed fraud amt 0.07581562701225952\n448\ncutoff 0.057071805\nmissed_fraud 157\nmean missed fraud amt 0.04352426397626838\n448\ncutoff 0.07062176\nmissed_fraud 144\nmean missed fraud amt 0.14626621720336777\nperformance reduced when R_emaildomain_suffix increased to -1.1549671540100173 from -14.715010526298602\n['card1', 'card3', 'card4', 'card5', 'card6', 'addr1', 'addr2', 'P_emaildomain_bin', 'P_emaildomain_suffix', 'R_emaildomain_bin', 'R_emaildomain_suffix', 'R_emaildomain', 'M1', 'M2', 'M3', 'M4', 'M5', 'M6', 'M7', 'M8', 'M9']\n448\ncutoff 0.016342431\nmissed_fraud 231\nmean missed fraud amt 0.13433332142977297\n448\ncutoff 0.074453175\nmissed_fraud 203\nmean missed fraud amt 0.004099634836157515\n448\ncutoff 0.076214075\nmissed_fraud 187\nmean missed fraud amt 0.0908695461735839\nperformance reduced when P_emaildomain increased to 0 from -14.715010526298602\n['card1', 'card3', 'card4', 'card5', 'card6', 'addr1', 'addr2', 'P_emaildomain_bin', 'P_emaildomain_suffix', 'R_emaildomain_bin', 'R_emaildomain_suffix', 'P_emaildomain', 'M1', 'M2', 'M3', 'M4', 'M5', 'M6', 'M7', 'M8', 'M9']\n448\ncutoff 0.016302705\nmissed_fraud 230\nmean missed fraud amt 0.10876916360575187\n448\ncutoff 0.08838999\nmissed_fraud 196\nmean missed fraud amt 0.01784795274544422\n448\ncutoff 0.055694282\nmissed_fraud 179\nmean missed fraud amt 0.1183819982299132\nperformance reduced when R_emaildomain increased to 0 from -14.715010526298602\n['card1', 'card3', 'card4', 'card5', 'card6', 'addr1', 'addr2', 'P_emaildomain_bin', 'P_emaildomain_suffix', 'R_emaildomain_bin', 'R_emaildomain_suffix', 'P_emaildomain', 'R_emaildomain', 'M2', 'M3', 'M4', 'M5', 'M6', 'M7', 'M8', 'M9']\n448\ncutoff 0.013772726\nmissed_fraud 236\nmean missed fraud amt 0.08377907617097595\n448\ncutoff 0.085101336\nmissed_fraud 200\nmean missed fraud amt -0.008190541877091532\n448\ncutoff 0.063275486\nmissed_fraud 183\nmean missed fraud amt 0.03259897733174695\n448\ncutoff 0.06900352\nmissed_fraud 168\nmean missed fraud amt 0.06799767518062683\n448\ncutoff 0.059709996\nmissed_fraud 154\nmean missed fraud amt 0.02168842614118691\nperformance reduced when M1 increased to -1.6381083754183066 from -14.715010526298602\n['card1', 'card3', 'card4', 'card5', 'card6', 'addr1', 'addr2', 'P_emaildomain_bin', 'P_emaildomain_suffix', 'R_emaildomain_bin', 'R_emaildomain_suffix', 'P_emaildomain', 'R_emaildomain', 'M1', 'M3', 'M4', 'M5', 'M6', 'M7', 'M8', 'M9']\n448\ncutoff 0.084174514\nmissed_fraud 229\nmean missed fraud amt 0.11812379517139297\n448\ncutoff 0.049535334\nmissed_fraud 204\nmean missed fraud amt 0.05332827382828228\n448\ncutoff 0.106325895\nmissed_fraud 181\nmean missed fraud amt 0.13900508658986602\nperformance reduced when M2 increased to 0 from -14.715010526298602\n['card1', 'card3', 'card4', 'card5', 'card6', 'addr1', 'addr2', 'P_emaildomain_bin', 'P_emaildomain_suffix', 'R_emaildomain_bin', 'R_emaildomain_suffix', 'P_emaildomain', 'R_emaildomain', 'M1', 'M2', 'M4', 'M5', 'M6', 'M7', 'M8', 'M9']\n448\ncutoff 0.018264413\nmissed_fraud 237\nmean missed fraud amt 0.147171131133434\n448\ncutoff 0.08070442\nmissed_fraud 201\nmean missed fraud amt 0.07631466957051032\n448\ncutoff 0.064034104\nmissed_fraud 176\nmean missed fraud amt 0.08276755652685394\nperformance reduced when M3 increased to 0 from -14.715010526298602\n['card1', 'card3', 'card4', 'card5', 'card6', 'addr1', 'addr2', 'P_emaildomain_bin', 'P_emaildomain_suffix', 'R_emaildomain_bin', 'R_emaildomain_suffix', 'P_emaildomain', 'R_emaildomain', 'M1', 'M2', 'M3', 'M5', 'M6', 'M7', 'M8', 'M9']\n448\ncutoff 0.013993859\nmissed_fraud 224\nmean missed fraud amt 0.06777144822064927\n448\ncutoff 0.087086946\nmissed_fraud 198\nmean missed fraud amt 0.019883212917289377\n448\ncutoff 0.05404988\nmissed_fraud 173\nmean missed fraud amt 0.08415175797174017\nperformance reduced when M4 increased to 0 from -14.715010526298602\n['card1', 'card3', 'card4', 'card5', 'card6', 'addr1', 'addr2', 'P_emaildomain_bin', 'P_emaildomain_suffix', 'R_emaildomain_bin', 'R_emaildomain_suffix', 'P_emaildomain', 'R_emaildomain', 'M1', 'M2', 'M3', 'M4', 'M6', 'M7', 'M8', 'M9']\n448\ncutoff 0.029897064\nmissed_fraud 239\nmean missed fraud amt 0.16661629931465002\n448\ncutoff 0.076452196\nmissed_fraud 207\nmean missed fraud amt 0.023100627311472516\n448\ncutoff 0.063898325\nmissed_fraud 180\nmean missed fraud amt 0.10239554521125681\nperformance reduced when M5 increased to 0 from -14.715010526298602\n['card1', 'card3', 'card4', 'card5', 'card6', 'addr1', 'addr2', 'P_emaildomain_bin', 'P_emaildomain_suffix', 'R_emaildomain_bin', 'R_emaildomain_suffix', 'P_emaildomain', 'R_emaildomain', 'M1', 'M2', 'M3', 'M4', 'M5', 'M7', 'M8', 'M9']\n448\ncutoff 0.028262258\nmissed_fraud 225\nmean missed fraud amt 0.11380204123662588\n448\ncutoff 0.06814554\nmissed_fraud 209\nmean missed fraud amt 0.03746641157796198\n448\ncutoff 0.073214084\nmissed_fraud 185\nmean missed fraud amt 0.07565846548443893\nperformance reduced when M6 increased to 0 from -14.715010526298602\n['card1', 'card3', 'card4', 'card5', 'card6', 'addr1', 'addr2', 'P_emaildomain_bin', 'P_emaildomain_suffix', 'R_emaildomain_bin', 'R_emaildomain_suffix', 'P_emaildomain', 'R_emaildomain', 'M1', 'M2', 'M3', 'M4', 'M5', 'M6', 'M8', 'M9']\n448\ncutoff 0.014600188\nmissed_fraud 232\nmean missed fraud amt 0.16263825806076615\n448\ncutoff 0.10070148\nmissed_fraud 204\nmean missed fraud amt -0.04525429305019574\n448\ncutoff 0.0552243\nmissed_fraud 191\nmean missed fraud amt 0.03077523834621477\n448\ncutoff 0.08140504\nmissed_fraud 162\nmean missed fraud amt 0.088399749793305\n448\ncutoff 0.051858157\nmissed_fraud 160\nmean missed fraud amt 0.09660634020336982\nperformance reduced when M7 increased to -9.23187578223993 from -14.715010526298602\n['card1', 'card3', 'card4', 'card5', 'card6', 'addr1', 'addr2', 'P_emaildomain_bin', 'P_emaildomain_suffix', 'R_emaildomain_bin', 'R_emaildomain_suffix', 'P_emaildomain', 'R_emaildomain', 'M1', 'M2', 'M3', 'M4', 'M5', 'M6', 'M7', 'M9']\n448\ncutoff 0.05681327\nmissed_fraud 219\nmean missed fraud amt 0.06357731430728139\n448\ncutoff 0.04791251\nmissed_fraud 215\nmean missed fraud amt 0.032528205075800586\n448\ncutoff 0.123539686\nmissed_fraud 174\nmean missed fraud amt 0.015383848680721124\nperformance reduced when M8 increased to 0 from -14.715010526298602\n['card1', 'card3', 'card4', 'card5', 'card6', 'addr1', 'addr2', 'P_emaildomain_bin', 'P_emaildomain_suffix', 'R_emaildomain_bin', 'R_emaildomain_suffix', 'P_emaildomain', 'R_emaildomain', 'M1', 'M2', 'M3', 'M4', 'M5', 'M6', 'M7', 'M8']\n448\ncutoff 0.039383084\nmissed_fraud 231\nmean missed fraud amt 0.17450994529329902\n448\ncutoff 0.07808176\nmissed_fraud 210\nmean missed fraud amt 0.0006989427106770857\n448\ncutoff 0.0734981\nmissed_fraud 186\nmean missed fraud amt 0.044097613816838195\nperformance reduced when M9 increased to 0 from -14.715010526298602\n"
    }
   ],
   "source": [
    "for category_test in categorical_save:\n",
    "    categorical = [cat for cat in categorical_save if cat not in drop_cats]\n",
    "    categorical.remove(category_test)\n",
    "    print(categorical)\n",
    "    X_train = get_input_features(tr_df)\n",
    "    X_valid = get_input_features(val_df)\n",
    "    X_test = get_input_features(test_df)\n",
    "    y_train = tr_df[target]\n",
    "    y_valid = val_df[target]\n",
    "    model = make_model()\n",
    "    local_score = 0\n",
    "    patience = 0\n",
    "    for i in range(100):\n",
    "        if patience < 3:\n",
    "            hist = model.fit(X_train, y_train, validation_data = (X_valid,y_valid), batch_size = 8000, epochs = 1, verbose = 0)\n",
    "            valid_preds = model.predict(X_valid, batch_size = 8000, verbose = False)\n",
    "            val_df_pred[target]=valid_preds\n",
    "            score = compute_loss(val_df_pred, val_df, 1600)\n",
    "            if score < local_score:\n",
    "                model.save_weights(\"model.h5\")\n",
    "                local_score = score\n",
    "                patience = 0\n",
    "            else:\n",
    "                patience += 1\n",
    "        else:\n",
    "            if local_score > best_score:\n",
    "                print(\"performance reduced when\", category_test, \"increased to\", local_score, \"from\", best_score)\n",
    "                break\n",
    "            else:\n",
    "                drop_cats.append(category_test)\n",
    "                print(\"performance increased when\", category_test, \"dropped to\", local_score, \"from\", best_score)\n",
    "                best_score = local_score\n",
    "                model.save_weights(\"best_model.h5\")\n",
    "                break"
   ]
  },
  {
   "cell_type": "code",
   "execution_count": 54,
   "metadata": {},
   "outputs": [
    {
     "output_type": "execute_result",
     "data": {
      "text/plain": "['ProductCD', 'card2']"
     },
     "metadata": {},
     "execution_count": 54
    }
   ],
   "source": [
    "drop_cats"
   ]
  },
  {
   "cell_type": "code",
   "execution_count": 55,
   "metadata": {},
   "outputs": [],
   "source": [
    "categorical = [cat for cat in categorical_save if cat not in drop_cats]"
   ]
  },
  {
   "cell_type": "code",
   "execution_count": 56,
   "metadata": {},
   "outputs": [],
   "source": [
    "drop_nums = []"
   ]
  },
  {
   "cell_type": "markdown",
   "metadata": {},
   "source": [
    "Dropping numeric"
   ]
  },
  {
   "cell_type": "code",
   "execution_count": 57,
   "metadata": {
    "tags": [
     "outputPrepend"
    ]
   },
   "outputs": [
    {
     "output_type": "stream",
     "name": "stdout",
     "text": "67713857934 from -14.814529101423126\n['TransactionAmt', 'dist1', 'C1', 'C3', 'C4', 'C5', 'C6', 'C7', 'C8', 'C9', 'C10', 'C11', 'C12', 'C13', 'C14', 'D1', 'D2', 'D3', 'D4', 'D5', 'D6', 'D7', 'D8', 'D9', 'D10', 'D11', 'D12', 'D13', 'D14', 'D15', 'V1']\n448\ncutoff 0.03082934\nmissed_fraud 249\nmean missed fraud amt 0.13719974654591482\n448\ncutoff 0.06888023\nmissed_fraud 222\nmean missed fraud amt 0.049946019540470114\n448\ncutoff 0.06991452\nmissed_fraud 176\nmean missed fraud amt 0.10095567032030699\n448\ncutoff 0.05908826\nmissed_fraud 164\nmean missed fraud amt 0.15765865211223512\nperformance reduced when C2 increased to 0 from -14.814529101423126\n['TransactionAmt', 'dist1', 'C1', 'C2', 'C4', 'C5', 'C6', 'C7', 'C8', 'C9', 'C10', 'C11', 'C12', 'C13', 'C14', 'D1', 'D2', 'D3', 'D4', 'D5', 'D6', 'D7', 'D8', 'D9', 'D10', 'D11', 'D12', 'D13', 'D14', 'D15', 'V1']\n448\ncutoff 0.008551359\nmissed_fraud 217\nmean missed fraud amt 0.0544264157598597\n448\ncutoff 0.08948749\nmissed_fraud 191\nmean missed fraud amt 0.0037452157442414784\n448\ncutoff 0.054628044\nmissed_fraud 187\nmean missed fraud amt 0.16451458109915998\n448\ncutoff 0.0830895\nmissed_fraud 161\nmean missed fraud amt 0.13366944269096637\nperformance reduced when C3 increased to 0 from -14.814529101423126\n['TransactionAmt', 'dist1', 'C1', 'C2', 'C3', 'C5', 'C6', 'C7', 'C8', 'C9', 'C10', 'C11', 'C12', 'C13', 'C14', 'D1', 'D2', 'D3', 'D4', 'D5', 'D6', 'D7', 'D8', 'D9', 'D10', 'D11', 'D12', 'D13', 'D14', 'D15', 'V1']\n448\ncutoff 0.023267508\nmissed_fraud 215\nmean missed fraud amt 0.04659911747417705\n448\ncutoff 0.0627493\nmissed_fraud 209\nmean missed fraud amt 0.009747181166106181\n448\ncutoff 0.0645878\nmissed_fraud 179\nmean missed fraud amt 0.12285913999798545\n448\ncutoff 0.07659045\nmissed_fraud 164\nmean missed fraud amt 0.07333196308486717\nperformance reduced when C4 increased to 0 from -14.814529101423126\n['TransactionAmt', 'dist1', 'C1', 'C2', 'C3', 'C4', 'C6', 'C7', 'C8', 'C9', 'C10', 'C11', 'C12', 'C13', 'C14', 'D1', 'D2', 'D3', 'D4', 'D5', 'D6', 'D7', 'D8', 'D9', 'D10', 'D11', 'D12', 'D13', 'D14', 'D15', 'V1']\n448\ncutoff 0.011032522\nmissed_fraud 227\nmean missed fraud amt 0.08330643441248839\n448\ncutoff 0.08329067\nmissed_fraud 201\nmean missed fraud amt -0.014782996439628653\n448\ncutoff 0.05207634\nmissed_fraud 174\nmean missed fraud amt 0.11854379897959792\n448\ncutoff 0.083773226\nmissed_fraud 170\nmean missed fraud amt 0.16185081647266944\n448\ncutoff 0.043705344\nmissed_fraud 161\nmean missed fraud amt 0.12127323920521779\n448\ncutoff 0.06981519\nmissed_fraud 157\nmean missed fraud amt 0.13078064667677305\nperformance reduced when C5 increased to -2.971382284365359 from -14.814529101423126\n['TransactionAmt', 'dist1', 'C1', 'C2', 'C3', 'C4', 'C5', 'C7', 'C8', 'C9', 'C10', 'C11', 'C12', 'C13', 'C14', 'D1', 'D2', 'D3', 'D4', 'D5', 'D6', 'D7', 'D8', 'D9', 'D10', 'D11', 'D12', 'D13', 'D14', 'D15', 'V1']\n448\ncutoff 0.014618188\nmissed_fraud 229\nmean missed fraud amt 0.12389632752485241\n448\ncutoff 0.076407015\nmissed_fraud 193\nmean missed fraud amt 0.02817708359558196\n448\ncutoff 0.064780116\nmissed_fraud 175\nmean missed fraud amt 0.10884067469577985\n448\ncutoff 0.064905405\nmissed_fraud 174\nmean missed fraud amt 0.15311521222856353\nperformance reduced when C6 increased to 0 from -14.814529101423126\n['TransactionAmt', 'dist1', 'C1', 'C2', 'C3', 'C4', 'C5', 'C6', 'C8', 'C9', 'C10', 'C11', 'C12', 'C13', 'C14', 'D1', 'D2', 'D3', 'D4', 'D5', 'D6', 'D7', 'D8', 'D9', 'D10', 'D11', 'D12', 'D13', 'D14', 'D15', 'V1']\n448\ncutoff 0.01796189\nmissed_fraud 221\nmean missed fraud amt 0.07527912838763624\n448\ncutoff 0.067875\nmissed_fraud 207\nmean missed fraud amt -0.006907366465023281\n448\ncutoff 0.083577484\nmissed_fraud 178\nmean missed fraud amt 0.0211700434452857\n448\ncutoff 0.05569589\nmissed_fraud 164\nmean missed fraud amt 0.09055532375142232\n448\ncutoff 0.07460907\nmissed_fraud 165\nmean missed fraud amt 0.1408238320399572\n448\ncutoff 0.05740097\nmissed_fraud 152\nmean missed fraud amt 0.08978916591884492\nperformance reduced when C7 increased to -1.4298248582598192 from -14.814529101423126\n['TransactionAmt', 'dist1', 'C1', 'C2', 'C3', 'C4', 'C5', 'C6', 'C7', 'C9', 'C10', 'C11', 'C12', 'C13', 'C14', 'D1', 'D2', 'D3', 'D4', 'D5', 'D6', 'D7', 'D8', 'D9', 'D10', 'D11', 'D12', 'D13', 'D14', 'D15', 'V1']\n448\ncutoff 0.033987135\nmissed_fraud 218\nmean missed fraud amt 0.04393907446047805\n448\ncutoff 0.0518876\nmissed_fraud 204\nmean missed fraud amt 0.025322994335794276\n448\ncutoff 0.085510105\nmissed_fraud 165\nmean missed fraud amt 0.07391049790848869\n448\ncutoff 0.051348627\nmissed_fraud 169\nmean missed fraud amt 0.18773606314593053\nperformance reduced when C8 increased to 0 from -14.814529101423126\n['TransactionAmt', 'dist1', 'C1', 'C2', 'C3', 'C4', 'C5', 'C6', 'C7', 'C8', 'C10', 'C11', 'C12', 'C13', 'C14', 'D1', 'D2', 'D3', 'D4', 'D5', 'D6', 'D7', 'D8', 'D9', 'D10', 'D11', 'D12', 'D13', 'D14', 'D15', 'V1']\n448\ncutoff 0.061258525\nmissed_fraud 227\nmean missed fraud amt 0.08049141348626945\n448\ncutoff 0.0487096\nmissed_fraud 207\nmean missed fraud amt 0.025239830891558093\n448\ncutoff 0.10247341\nmissed_fraud 170\nmean missed fraud amt 0.07592335396061586\n448\ncutoff 0.03994435\nmissed_fraud 166\nmean missed fraud amt 0.14085338059634905\nperformance reduced when C9 increased to 0 from -14.814529101423126\n['TransactionAmt', 'dist1', 'C1', 'C2', 'C3', 'C4', 'C5', 'C6', 'C7', 'C8', 'C9', 'C11', 'C12', 'C13', 'C14', 'D1', 'D2', 'D3', 'D4', 'D5', 'D6', 'D7', 'D8', 'D9', 'D10', 'D11', 'D12', 'D13', 'D14', 'D15', 'V1']\n448\ncutoff 0.04639384\nmissed_fraud 220\nmean missed fraud amt 0.0790875573150949\n448\ncutoff 0.051418662\nmissed_fraud 204\nmean missed fraud amt -0.004550337281072585\n448\ncutoff 0.08644453\nmissed_fraud 175\nmean missed fraud amt 0.022780167776493845\n448\ncutoff 0.05639243\nmissed_fraud 161\nmean missed fraud amt 0.14922590888520687\n448\ncutoff 0.05788544\nmissed_fraud 148\nmean missed fraud amt 0.1416694669873111\n448\ncutoff 0.05036503\nmissed_fraud 142\nmean missed fraud amt 0.07705493205863231\nperformance reduced when C10 increased to -0.9282688053388073 from -14.814529101423126\n['TransactionAmt', 'dist1', 'C1', 'C2', 'C3', 'C4', 'C5', 'C6', 'C7', 'C8', 'C9', 'C10', 'C12', 'C13', 'C14', 'D1', 'D2', 'D3', 'D4', 'D5', 'D6', 'D7', 'D8', 'D9', 'D10', 'D11', 'D12', 'D13', 'D14', 'D15', 'V1']\n448\ncutoff 0.011408359\nmissed_fraud 230\nmean missed fraud amt 0.11767620339249728\n448\ncutoff 0.08539751\nmissed_fraud 206\nmean missed fraud amt 0.010792811282837572\n448\ncutoff 0.056666523\nmissed_fraud 182\nmean missed fraud amt 0.03217960967205795\n448\ncutoff 0.07746217\nmissed_fraud 176\nmean missed fraud amt 0.07763623826119806\nperformance reduced when C11 increased to 0 from -14.814529101423126\n['TransactionAmt', 'dist1', 'C1', 'C2', 'C3', 'C4', 'C5', 'C6', 'C7', 'C8', 'C9', 'C10', 'C11', 'C13', 'C14', 'D1', 'D2', 'D3', 'D4', 'D5', 'D6', 'D7', 'D8', 'D9', 'D10', 'D11', 'D12', 'D13', 'D14', 'D15', 'V1']\n448\ncutoff 0.013092697\nmissed_fraud 220\nmean missed fraud amt 0.06819828234548461\n448\ncutoff 0.07919401\nmissed_fraud 192\nmean missed fraud amt -0.018305154408084126\n448\ncutoff 0.05152908\nmissed_fraud 175\nmean missed fraud amt 0.02960432942475054\n448\ncutoff 0.081065714\nmissed_fraud 159\nmean missed fraud amt 0.08984347778258084\n448\ncutoff 0.058521926\nmissed_fraud 154\nmean missed fraud amt 0.12109583948049715\n448\ncutoff 0.06749222\nmissed_fraud 151\nmean missed fraud amt 0.12165198559806274\nperformance reduced when C12 increased to -3.514589646352152 from -14.814529101423126\n['TransactionAmt', 'dist1', 'C1', 'C2', 'C3', 'C4', 'C5', 'C6', 'C7', 'C8', 'C9', 'C10', 'C11', 'C12', 'C14', 'D1', 'D2', 'D3', 'D4', 'D5', 'D6', 'D7', 'D8', 'D9', 'D10', 'D11', 'D12', 'D13', 'D14', 'D15', 'V1']\n448\ncutoff 0.016416043\nmissed_fraud 215\nmean missed fraud amt 0.05181354051463515\n448\ncutoff 0.06884059\nmissed_fraud 197\nmean missed fraud amt -0.030373291006515882\n448\ncutoff 0.078743845\nmissed_fraud 172\nmean missed fraud amt 0.14106092179098798\n448\ncutoff 0.059993178\nmissed_fraud 163\nmean missed fraud amt 0.10583127063960156\n448\ncutoff 0.07262877\nmissed_fraud 162\nmean missed fraud amt 0.12040284673003916\n448\ncutoff 0.054302633\nmissed_fraud 156\nmean missed fraud amt 0.1412270277113619\nperformance reduced when C13 increased to -5.983538328283629 from -14.814529101423126\n['TransactionAmt', 'dist1', 'C1', 'C2', 'C3', 'C4', 'C5', 'C6', 'C7', 'C8', 'C9', 'C10', 'C11', 'C12', 'C13', 'D1', 'D2', 'D3', 'D4', 'D5', 'D6', 'D7', 'D8', 'D9', 'D10', 'D11', 'D12', 'D13', 'D14', 'D15', 'V1']\n448\ncutoff 0.058087498\nmissed_fraud 218\nmean missed fraud amt 0.03347454196850686\n448\ncutoff 0.041586637\nmissed_fraud 205\nmean missed fraud amt 0.04907816090755787\n448\ncutoff 0.118737966\nmissed_fraud 181\nmean missed fraud amt 0.0731009804803244\n448\ncutoff 0.043506116\nmissed_fraud 167\nmean missed fraud amt 0.05109306849990141\nperformance reduced when C14 increased to 0 from -14.814529101423126\n['TransactionAmt', 'dist1', 'C1', 'C2', 'C3', 'C4', 'C5', 'C6', 'C7', 'C8', 'C9', 'C10', 'C11', 'C12', 'C13', 'C14', 'D2', 'D3', 'D4', 'D5', 'D6', 'D7', 'D8', 'D9', 'D10', 'D11', 'D12', 'D13', 'D14', 'D15', 'V1']\n448\ncutoff 0.01371181\nmissed_fraud 228\nmean missed fraud amt 0.10167111675682164\n448\ncutoff 0.08244926\nmissed_fraud 198\nmean missed fraud amt 0.00012473009218226346\n448\ncutoff 0.05084932\nmissed_fraud 184\nmean missed fraud amt 0.059466254074715265\n448\ncutoff 0.0950048\nmissed_fraud 171\nmean missed fraud amt 0.05441126860762726\nperformance reduced when D1 increased to 0 from -14.814529101423126\n['TransactionAmt', 'dist1', 'C1', 'C2', 'C3', 'C4', 'C5', 'C6', 'C7', 'C8', 'C9', 'C10', 'C11', 'C12', 'C13', 'C14', 'D1', 'D3', 'D4', 'D5', 'D6', 'D7', 'D8', 'D9', 'D10', 'D11', 'D12', 'D13', 'D14', 'D15', 'V1']\n448\ncutoff 0.022175282\nmissed_fraud 226\nmean missed fraud amt 0.09156567610933886\n448\ncutoff 0.07202384\nmissed_fraud 200\nmean missed fraud amt -0.035357231067353175\n448\ncutoff 0.068777144\nmissed_fraud 177\nmean missed fraud amt 0.011539455588749123\n448\ncutoff 0.063904524\nmissed_fraud 170\nmean missed fraud amt 0.06027577114082907\n448\ncutoff 0.06299275\nmissed_fraud 152\nmean missed fraud amt 0.1436608108490198\n448\ncutoff 0.05657229\nmissed_fraud 142\nmean missed fraud amt 0.13130387489886974\nperformance reduced when D2 increased to -7.071446213470635 from -14.814529101423126\n['TransactionAmt', 'dist1', 'C1', 'C2', 'C3', 'C4', 'C5', 'C6', 'C7', 'C8', 'C9', 'C10', 'C11', 'C12', 'C13', 'C14', 'D1', 'D2', 'D4', 'D5', 'D6', 'D7', 'D8', 'D9', 'D10', 'D11', 'D12', 'D13', 'D14', 'D15', 'V1']\n448\ncutoff 0.016461432\nmissed_fraud 227\nmean missed fraud amt 0.06688256257334776\n448\ncutoff 0.067205966\nmissed_fraud 218\nmean missed fraud amt -0.03263042538594577\n448\ncutoff 0.06636348\nmissed_fraud 178\nmean missed fraud amt 0.07793702962415049\n448\ncutoff 0.06726137\nmissed_fraud 168\nmean missed fraud amt 0.08381527032981914\n448\ncutoff 0.06836358\nmissed_fraud 149\nmean missed fraud amt 0.09318372998467317\n448\ncutoff 0.064101905\nmissed_fraud 144\nmean missed fraud amt 0.1387969965172486\nperformance reduced when D3 increased to -7.113432734136179 from -14.814529101423126\n['TransactionAmt', 'dist1', 'C1', 'C2', 'C3', 'C4', 'C5', 'C6', 'C7', 'C8', 'C9', 'C10', 'C11', 'C12', 'C13', 'C14', 'D1', 'D2', 'D3', 'D5', 'D6', 'D7', 'D8', 'D9', 'D10', 'D11', 'D12', 'D13', 'D14', 'D15', 'V1']\n448\ncutoff 0.013112754\nmissed_fraud 222\nmean missed fraud amt 0.08217147219219417\n448\ncutoff 0.08423963\nmissed_fraud 199\nmean missed fraud amt -0.036980848975915255\n448\ncutoff 0.04484406\nmissed_fraud 183\nmean missed fraud amt 0.09791041767683542\n448\ncutoff 0.08643797\nmissed_fraud 167\nmean missed fraud amt 0.08542233100768801\n448\ncutoff 0.050949574\nmissed_fraud 172\nmean missed fraud amt 0.11188684207541429\n448\ncutoff 0.08320749\nmissed_fraud 162\nmean missed fraud amt 0.11103259616374364\nperformance reduced when D4 increased to -7.359188946207135 from -14.814529101423126\n['TransactionAmt', 'dist1', 'C1', 'C2', 'C3', 'C4', 'C5', 'C6', 'C7', 'C8', 'C9', 'C10', 'C11', 'C12', 'C13', 'C14', 'D1', 'D2', 'D3', 'D4', 'D6', 'D7', 'D8', 'D9', 'D10', 'D11', 'D12', 'D13', 'D14', 'D15', 'V1']\n448\ncutoff 0.014545262\nmissed_fraud 233\nmean missed fraud amt 0.11331708019991904\n448\ncutoff 0.09205845\nmissed_fraud 208\nmean missed fraud amt -0.005455626790091932\n448\ncutoff 0.054139674\nmissed_fraud 183\nmean missed fraud amt 0.11053362104473227\n448\ncutoff 0.07728946\nmissed_fraud 171\nmean missed fraud amt 0.1259066521319874\n448\ncutoff 0.059347212\nmissed_fraud 162\nmean missed fraud amt 0.1453369176508771\n448\ncutoff 0.06117645\nmissed_fraud 141\nmean missed fraud amt 0.07782740283405686\nperformance reduced when D5 increased to -1.1347703723391218 from -14.814529101423126\n['TransactionAmt', 'dist1', 'C1', 'C2', 'C3', 'C4', 'C5', 'C6', 'C7', 'C8', 'C9', 'C10', 'C11', 'C12', 'C13', 'C14', 'D1', 'D2', 'D3', 'D4', 'D5', 'D7', 'D8', 'D9', 'D10', 'D11', 'D12', 'D13', 'D14', 'D15', 'V1']\n448\ncutoff 0.029218942\nmissed_fraud 237\nmean missed fraud amt 0.13321360373257662\n448\ncutoff 0.061175376\nmissed_fraud 219\nmean missed fraud amt 0.05485133001191356\n448\ncutoff 0.08227125\nmissed_fraud 184\nmean missed fraud amt 0.12242412251839087\n448\ncutoff 0.06687212\nmissed_fraud 171\nmean missed fraud amt 0.15122932763013075\nperformance reduced when D6 increased to 0 from -14.814529101423126\n['TransactionAmt', 'dist1', 'C1', 'C2', 'C3', 'C4', 'C5', 'C6', 'C7', 'C8', 'C9', 'C10', 'C11', 'C12', 'C13', 'C14', 'D1', 'D2', 'D3', 'D4', 'D5', 'D6', 'D8', 'D9', 'D10', 'D11', 'D12', 'D13', 'D14', 'D15', 'V1']\n448\ncutoff 0.03132665\nmissed_fraud 225\nmean missed fraud amt 0.08050331682403968\n448\ncutoff 0.058505565\nmissed_fraud 198\nmean missed fraud amt 0.012555321911565259\n448\ncutoff 0.087863654\nmissed_fraud 168\nmean missed fraud amt 0.024867798522624423\n448\ncutoff 0.04766351\nmissed_fraud 148\nmean missed fraud amt 0.06882422391217324\nperformance reduced when D7 increased to 0 from -14.814529101423126\n['TransactionAmt', 'dist1', 'C1', 'C2', 'C3', 'C4', 'C5', 'C6', 'C7', 'C8', 'C9', 'C10', 'C11', 'C12', 'C13', 'C14', 'D1', 'D2', 'D3', 'D4', 'D5', 'D6', 'D7', 'D9', 'D10', 'D11', 'D12', 'D13', 'D14', 'D15', 'V1']\n448\ncutoff 0.025296777\nmissed_fraud 237\nmean missed fraud amt 0.11265311845650268\n448\ncutoff 0.07386321\nmissed_fraud 218\nmean missed fraud amt 0.019899393710142158\n448\ncutoff 0.07336569\nmissed_fraud 169\nmean missed fraud amt 0.06617007774126876\n448\ncutoff 0.060177237\nmissed_fraud 160\nmean missed fraud amt 0.04663203301500107\nperformance reduced when D8 increased to 0 from -14.814529101423126\n['TransactionAmt', 'dist1', 'C1', 'C2', 'C3', 'C4', 'C5', 'C6', 'C7', 'C8', 'C9', 'C10', 'C11', 'C12', 'C13', 'C14', 'D1', 'D2', 'D3', 'D4', 'D5', 'D6', 'D7', 'D8', 'D10', 'D11', 'D12', 'D13', 'D14', 'D15', 'V1']\n448\ncutoff 0.028636634\nmissed_fraud 218\nmean missed fraud amt 0.054461371581765096\n448\ncutoff 0.057011425\nmissed_fraud 201\nmean missed fraud amt 0.013552086552245962\n448\ncutoff 0.08306569\nmissed_fraud 173\nmean missed fraud amt 0.08256550832092753\n448\ncutoff 0.05104807\nmissed_fraud 159\nmean missed fraud amt 0.08528738717196555\nperformance reduced when D9 increased to 0 from -14.814529101423126\n['TransactionAmt', 'dist1', 'C1', 'C2', 'C3', 'C4', 'C5', 'C6', 'C7', 'C8', 'C9', 'C10', 'C11', 'C12', 'C13', 'C14', 'D1', 'D2', 'D3', 'D4', 'D5', 'D6', 'D7', 'D8', 'D9', 'D11', 'D12', 'D13', 'D14', 'D15', 'V1']\n448\ncutoff 0.06277561\nmissed_fraud 221\nmean missed fraud amt 0.05333665241543819\n448\ncutoff 0.038069367\nmissed_fraud 211\nmean missed fraud amt 0.05146689909950885\n448\ncutoff 0.09303838\nmissed_fraud 169\nmean missed fraud amt 0.09346771093013582\n448\ncutoff 0.04897961\nmissed_fraud 161\nmean missed fraud amt 0.051834918622346154\nperformance reduced when D10 increased to 0 from -14.814529101423126\n['TransactionAmt', 'dist1', 'C1', 'C2', 'C3', 'C4', 'C5', 'C6', 'C7', 'C8', 'C9', 'C10', 'C11', 'C12', 'C13', 'C14', 'D1', 'D2', 'D3', 'D4', 'D5', 'D6', 'D7', 'D8', 'D9', 'D10', 'D12', 'D13', 'D14', 'D15', 'V1']\n448\ncutoff 0.010097414\nmissed_fraud 226\nmean missed fraud amt 0.06147299342389607\n448\ncutoff 0.08718556\nmissed_fraud 197\nmean missed fraud amt -0.016566031194269148\n448\ncutoff 0.0371269\nmissed_fraud 169\nmean missed fraud amt 0.023336653867221016\n448\ncutoff 0.08616239\nmissed_fraud 160\nmean missed fraud amt 0.08105366633246905\n448\ncutoff 0.041348755\nmissed_fraud 161\nmean missed fraud amt 0.10983605692213648\n448\ncutoff 0.085877776\nmissed_fraud 151\nmean missed fraud amt 0.08171311313272786\nperformance reduced when D11 increased to -3.263508145271022 from -14.814529101423126\n['TransactionAmt', 'dist1', 'C1', 'C2', 'C3', 'C4', 'C5', 'C6', 'C7', 'C8', 'C9', 'C10', 'C11', 'C12', 'C13', 'C14', 'D1', 'D2', 'D3', 'D4', 'D5', 'D6', 'D7', 'D8', 'D9', 'D10', 'D11', 'D13', 'D14', 'D15', 'V1']\n448\ncutoff 0.027070194\nmissed_fraud 231\nmean missed fraud amt 0.04373692592075595\n448\ncutoff 0.07030022\nmissed_fraud 209\nmean missed fraud amt -0.029051330830314453\n448\ncutoff 0.06548408\nmissed_fraud 175\nmean missed fraud amt 0.0812001724042094\n448\ncutoff 0.07755363\nmissed_fraud 172\nmean missed fraud amt 0.1475857710191697\n448\ncutoff 0.052499533\nmissed_fraud 165\nmean missed fraud amt 0.10932103973521516\n448\ncutoff 0.068837464\nmissed_fraud 149\nmean missed fraud amt 0.11282584523596019\nperformance reduced when D12 increased to -6.07172814353572 from -14.814529101423126\n['TransactionAmt', 'dist1', 'C1', 'C2', 'C3', 'C4', 'C5', 'C6', 'C7', 'C8', 'C9', 'C10', 'C11', 'C12', 'C13', 'C14', 'D1', 'D2', 'D3', 'D4', 'D5', 'D6', 'D7', 'D8', 'D9', 'D10', 'D11', 'D12', 'D14', 'D15', 'V1']\n448\ncutoff 0.024500191\nmissed_fraud 227\nmean missed fraud amt 0.08673943647795217\n448\ncutoff 0.06427336\nmissed_fraud 211\nmean missed fraud amt -0.006979034836681455\n448\ncutoff 0.0823178\nmissed_fraud 177\nmean missed fraud amt 0.08122744252306954\n448\ncutoff 0.058211297\nmissed_fraud 169\nmean missed fraud amt 0.12213077388884593\n448\ncutoff 0.065090984\nmissed_fraud 158\nmean missed fraud amt 0.10321514316364604\n448\ncutoff 0.06934574\nmissed_fraud 146\nmean missed fraud amt 0.08812118077135535\nperformance reduced when D13 increased to -1.472576350539787 from -14.814529101423126\n['TransactionAmt', 'dist1', 'C1', 'C2', 'C3', 'C4', 'C5', 'C6', 'C7', 'C8', 'C9', 'C10', 'C11', 'C12', 'C13', 'C14', 'D1', 'D2', 'D3', 'D4', 'D5', 'D6', 'D7', 'D8', 'D9', 'D10', 'D11', 'D12', 'D13', 'D15', 'V1']\n448\ncutoff 0.011899799\nmissed_fraud 228\nmean missed fraud amt 0.07323373532653643\n448\ncutoff 0.0769963\nmissed_fraud 199\nmean missed fraud amt 0.024022079322673046\n448\ncutoff 0.0609577\nmissed_fraud 173\nmean missed fraud amt 0.09399885724969038\n448\ncutoff 0.081459284\nmissed_fraud 166\nmean missed fraud amt 0.06455014404830178\nperformance reduced when D14 increased to 0 from -14.814529101423126\n['TransactionAmt', 'dist1', 'C1', 'C2', 'C3', 'C4', 'C5', 'C6', 'C7', 'C8', 'C9', 'C10', 'C11', 'C12', 'C13', 'C14', 'D1', 'D2', 'D3', 'D4', 'D5', 'D6', 'D7', 'D8', 'D9', 'D10', 'D11', 'D12', 'D13', 'D14', 'V1']\n448\ncutoff 0.005459368\nmissed_fraud 231\nmean missed fraud amt 0.07053899744811423\n448\ncutoff 0.115866035\nmissed_fraud 193\nmean missed fraud amt -0.019431762829528455\n448\ncutoff 0.037718862\nmissed_fraud 179\nmean missed fraud amt 0.16595349598990553\n448\ncutoff 0.08844563\nmissed_fraud 172\nmean missed fraud amt 0.13246674668992064\n448\ncutoff 0.046493202\nmissed_fraud 157\nmean missed fraud amt 0.07709359763661514\n448\ncutoff 0.065050215\nmissed_fraud 149\nmean missed fraud amt 0.12596243845307914\nperformance reduced when D15 increased to -3.7503302260989915 from -14.814529101423126\n['TransactionAmt', 'dist1', 'C1', 'C2', 'C3', 'C4', 'C5', 'C6', 'C7', 'C8', 'C9', 'C10', 'C11', 'C12', 'C13', 'C14', 'D1', 'D2', 'D3', 'D4', 'D5', 'D6', 'D7', 'D8', 'D9', 'D10', 'D11', 'D12', 'D13', 'D14', 'D15']\n448\ncutoff 0.02767244\nmissed_fraud 233\nmean missed fraud amt 0.08129804969974376\n448\ncutoff 0.06140086\nmissed_fraud 205\nmean missed fraud amt 0.05740867033019653\n448\ncutoff 0.062556654\nmissed_fraud 188\nmean missed fraud amt 0.12969259817435383\n448\ncutoff 0.083029926\nmissed_fraud 164\nmean missed fraud amt 0.05274864512471823\nperformance reduced when V1 increased to 0 from -14.814529101423126\n"
    }
   ],
   "source": [
    "for numerical_test in numerical_save:\n",
    "    numerical = [num for num in numerical_save if num not in drop_nums]\n",
    "    numerical.remove(numerical_test)\n",
    "    print(numerical)\n",
    "    X_train = get_input_features(tr_df)\n",
    "    X_valid = get_input_features(val_df)\n",
    "    X_test = get_input_features(test_df)\n",
    "    y_train = tr_df[target]\n",
    "    y_valid = val_df[target]\n",
    "    model = make_model()\n",
    "    local_score = 0\n",
    "    patience = 0\n",
    "    for i in range(100):\n",
    "        if patience < 4:\n",
    "            hist = model.fit(X_train, y_train, validation_data = (X_valid,y_valid), batch_size = 8000, epochs = 1, verbose = 0)\n",
    "            valid_preds = model.predict(X_valid, batch_size = 8000, verbose = False)\n",
    "            val_df_pred[target]=valid_preds\n",
    "            score = compute_loss(val_df_pred, val_df, 1600)\n",
    "            if score < local_score:\n",
    "                model.save_weights(\"model.h5\")\n",
    "                local_score = score\n",
    "                patience = 0\n",
    "            else:\n",
    "                patience += 1\n",
    "        else:\n",
    "            if local_score > best_score:\n",
    "                print(\"performance reduced when\", numerical_test, \"increased to\", local_score, \"from\", best_score)\n",
    "                break\n",
    "            else:\n",
    "                drop_nums.append(numerical_test)\n",
    "                print(\"performance increased when\", numerical_test, \"dropped to\", local_score, \"from\", best_score)\n",
    "                best_score = local_score\n",
    "                model.save_weights(\"best_model.h5\")\n",
    "                break"
   ]
  },
  {
   "cell_type": "code",
   "execution_count": 58,
   "metadata": {
    "tags": []
   },
   "outputs": [
    {
     "output_type": "stream",
     "name": "stdout",
     "text": "['dist2']\n"
    }
   ],
   "source": [
    "print(drop_nums)"
   ]
  },
  {
   "cell_type": "code",
   "execution_count": 59,
   "metadata": {},
   "outputs": [],
   "source": [
    "numerical = [num for num in numerical_save if num not in drop_nums]"
   ]
  },
  {
   "cell_type": "code",
   "execution_count": 60,
   "metadata": {},
   "outputs": [],
   "source": [
    "model = make_model()"
   ]
  },
  {
   "cell_type": "code",
   "execution_count": 61,
   "metadata": {},
   "outputs": [],
   "source": [
    "model.load_weights(\"best_model.h5\")"
   ]
  },
  {
   "cell_type": "markdown",
   "metadata": {},
   "source": [
    "## Tune for number of epoch"
   ]
  },
  {
   "cell_type": "code",
   "execution_count": 69,
   "metadata": {
    "tags": [
     "outputPrepend"
    ]
   },
   "outputs": [
    {
     "output_type": "stream",
     "name": "stdout",
     "text": "=====================] - 2s 27us/step - loss: 0.0146 - f1: 0.9049\nEpoch 76/85\n64317/64317 [==============================] - 2s 27us/step - loss: 0.0152 - f1: 0.8988\nEpoch 77/85\n64317/64317 [==============================] - 2s 27us/step - loss: 0.0137 - f1: 0.8992\nEpoch 78/85\n64317/64317 [==============================] - 2s 28us/step - loss: 0.0141 - f1: 0.9101\nEpoch 79/85\n64317/64317 [==============================] - 2s 27us/step - loss: 0.0149 - f1: 0.8900\nEpoch 80/85\n64317/64317 [==============================] - 2s 27us/step - loss: 0.0142 - f1: 0.8888\nEpoch 81/85\n64317/64317 [==============================] - 2s 27us/step - loss: 0.0156 - f1: 0.8855\nEpoch 82/85\n64317/64317 [==============================] - 2s 28us/step - loss: 0.0149 - f1: 0.8990\nEpoch 83/85\n64317/64317 [==============================] - 2s 27us/step - loss: 0.0144 - f1: 0.8886\nEpoch 84/85\n64317/64317 [==============================] - 2s 28us/step - loss: 0.0162 - f1: 0.8604\nEpoch 85/85\n64317/64317 [==============================] - 2s 28us/step - loss: 0.0155 - f1: 0.8985\n16080/16080 [==============================] - 0s 20us/step\n448\ncutoff 0.004287064\nmissed_fraud 129\nmean missed fraud amt 0.1283941833019984\nEpoch 1/90\n64317/64317 [==============================] - 2s 28us/step - loss: 0.0161 - f1: 0.8802\nEpoch 2/90\n64317/64317 [==============================] - 2s 29us/step - loss: 0.0156 - f1: 0.8951\nEpoch 3/90\n64317/64317 [==============================] - 2s 28us/step - loss: 0.0160 - f1: 0.8871\nEpoch 4/90\n64317/64317 [==============================] - 2s 28us/step - loss: 0.0155 - f1: 0.9064\nEpoch 5/90\n64317/64317 [==============================] - 2s 27us/step - loss: 0.0165 - f1: 0.8496\nEpoch 6/90\n64317/64317 [==============================] - 2s 28us/step - loss: 0.0152 - f1: 0.8873\nEpoch 7/90\n64317/64317 [==============================] - 2s 27us/step - loss: 0.0148 - f1: 0.8764\nEpoch 8/90\n64317/64317 [==============================] - 2s 27us/step - loss: 0.0157 - f1: 0.8933\nEpoch 9/90\n64317/64317 [==============================] - 2s 27us/step - loss: 0.0154 - f1: 0.9039\nEpoch 10/90\n64317/64317 [==============================] - 2s 27us/step - loss: 0.0160 - f1: 0.8626\nEpoch 11/90\n64317/64317 [==============================] - 2s 27us/step - loss: 0.0144 - f1: 0.9054\nEpoch 12/90\n64317/64317 [==============================] - 2s 28us/step - loss: 0.0159 - f1: 0.8788\nEpoch 13/90\n64317/64317 [==============================] - 2s 27us/step - loss: 0.0157 - f1: 0.8957\nEpoch 14/90\n64317/64317 [==============================] - 2s 27us/step - loss: 0.0153 - f1: 0.9039\nEpoch 15/90\n64317/64317 [==============================] - 2s 27us/step - loss: 0.0146 - f1: 0.8845\nEpoch 16/90\n64317/64317 [==============================] - 2s 27us/step - loss: 0.0149 - f1: 0.8961\nEpoch 17/90\n64317/64317 [==============================] - 2s 28us/step - loss: 0.0157 - f1: 0.8765\nEpoch 18/90\n64317/64317 [==============================] - 2s 27us/step - loss: 0.0149 - f1: 0.9104\nEpoch 19/90\n64317/64317 [==============================] - 2s 27us/step - loss: 0.0140 - f1: 0.8894\nEpoch 20/90\n64317/64317 [==============================] - 2s 27us/step - loss: 0.0144 - f1: 0.9082\nEpoch 21/90\n64317/64317 [==============================] - 2s 27us/step - loss: 0.0155 - f1: 0.8832\nEpoch 22/90\n64317/64317 [==============================] - 2s 27us/step - loss: 0.0150 - f1: 0.8983\nEpoch 23/90\n64317/64317 [==============================] - 2s 27us/step - loss: 0.0138 - f1: 0.9178\nEpoch 24/90\n64317/64317 [==============================] - 2s 27us/step - loss: 0.0157 - f1: 0.8965\nEpoch 25/90\n64317/64317 [==============================] - 2s 27us/step - loss: 0.0144 - f1: 0.8944\nEpoch 26/90\n64317/64317 [==============================] - 2s 27us/step - loss: 0.0148 - f1: 0.8834\nEpoch 27/90\n64317/64317 [==============================] - 2s 28us/step - loss: 0.0157 - f1: 0.8741\nEpoch 28/90\n64317/64317 [==============================] - 2s 27us/step - loss: 0.0166 - f1: 0.8803\nEpoch 29/90\n64317/64317 [==============================] - 2s 28us/step - loss: 0.0167 - f1: 0.8623\nEpoch 30/90\n64317/64317 [==============================] - 2s 28us/step - loss: 0.0155 - f1: 0.8627\nEpoch 31/90\n64317/64317 [==============================] - 2s 29us/step - loss: 0.0157 - f1: 0.8998\nEpoch 32/90\n64317/64317 [==============================] - 2s 28us/step - loss: 0.0146 - f1: 0.8791\nEpoch 33/90\n64317/64317 [==============================] - 2s 28us/step - loss: 0.0166 - f1: 0.8883\nEpoch 34/90\n64317/64317 [==============================] - 2s 27us/step - loss: 0.0162 - f1: 0.8815\nEpoch 35/90\n64317/64317 [==============================] - 2s 27us/step - loss: 0.0150 - f1: 0.8975\nEpoch 36/90\n64317/64317 [==============================] - 2s 27us/step - loss: 0.0134 - f1: 0.9150\nEpoch 37/90\n64317/64317 [==============================] - 2s 27us/step - loss: 0.0139 - f1: 0.8942\nEpoch 38/90\n64317/64317 [==============================] - 2s 28us/step - loss: 0.0141 - f1: 0.9060\nEpoch 39/90\n64317/64317 [==============================] - 2s 27us/step - loss: 0.0143 - f1: 0.8718\nEpoch 40/90\n64317/64317 [==============================] - 2s 28us/step - loss: 0.0156 - f1: 0.8818\nEpoch 41/90\n64317/64317 [==============================] - 2s 27us/step - loss: 0.0154 - f1: 0.9022\nEpoch 42/90\n64317/64317 [==============================] - 2s 27us/step - loss: 0.0158 - f1: 0.8636\nEpoch 43/90\n64317/64317 [==============================] - 2s 27us/step - loss: 0.0167 - f1: 0.8962\nEpoch 44/90\n64317/64317 [==============================] - 2s 27us/step - loss: 0.0154 - f1: 0.9003\nEpoch 45/90\n64317/64317 [==============================] - 2s 28us/step - loss: 0.0159 - f1: 0.8748\nEpoch 46/90\n64317/64317 [==============================] - 2s 28us/step - loss: 0.0157 - f1: 0.8899\nEpoch 47/90\n64317/64317 [==============================] - 2s 27us/step - loss: 0.0170 - f1: 0.9003\nEpoch 48/90\n64317/64317 [==============================] - 2s 27us/step - loss: 0.0159 - f1: 0.8809\nEpoch 49/90\n64317/64317 [==============================] - 2s 28us/step - loss: 0.0142 - f1: 0.8949\nEpoch 50/90\n64317/64317 [==============================] - 2s 29us/step - loss: 0.0147 - f1: 0.9085\nEpoch 51/90\n64317/64317 [==============================] - 2s 29us/step - loss: 0.0155 - f1: 0.8623\nEpoch 52/90\n64317/64317 [==============================] - 2s 29us/step - loss: 0.0143 - f1: 0.8987\nEpoch 53/90\n64317/64317 [==============================] - 2s 29us/step - loss: 0.0145 - f1: 0.9000\nEpoch 54/90\n64317/64317 [==============================] - 2s 29us/step - loss: 0.0137 - f1: 0.8894\nEpoch 55/90\n64317/64317 [==============================] - 2s 28us/step - loss: 0.0140 - f1: 0.9049\nEpoch 56/90\n64317/64317 [==============================] - 2s 28us/step - loss: 0.0151 - f1: 0.9036\nEpoch 57/90\n64317/64317 [==============================] - 2s 28us/step - loss: 0.0130 - f1: 0.8879\nEpoch 58/90\n64317/64317 [==============================] - 2s 28us/step - loss: 0.0144 - f1: 0.9022\nEpoch 59/90\n64317/64317 [==============================] - 2s 27us/step - loss: 0.0151 - f1: 0.8906\nEpoch 60/90\n64317/64317 [==============================] - 2s 27us/step - loss: 0.0147 - f1: 0.8955\nEpoch 61/90\n64317/64317 [==============================] - 2s 28us/step - loss: 0.0150 - f1: 0.9000\nEpoch 62/90\n64317/64317 [==============================] - 2s 28us/step - loss: 0.0153 - f1: 0.8845\nEpoch 63/90\n64317/64317 [==============================] - 2s 29us/step - loss: 0.0163 - f1: 0.8922\nEpoch 64/90\n64317/64317 [==============================] - 2s 28us/step - loss: 0.0179 - f1: 0.8731\nEpoch 65/90\n64317/64317 [==============================] - 2s 27us/step - loss: 0.0164 - f1: 0.8833\nEpoch 66/90\n64317/64317 [==============================] - 2s 27us/step - loss: 0.0164 - f1: 0.8868\nEpoch 67/90\n64317/64317 [==============================] - 2s 27us/step - loss: 0.0144 - f1: 0.8999\nEpoch 68/90\n64317/64317 [==============================] - 2s 29us/step - loss: 0.0160 - f1: 0.8929\nEpoch 69/90\n64317/64317 [==============================] - 2s 29us/step - loss: 0.0163 - f1: 0.8897\nEpoch 70/90\n64317/64317 [==============================] - 2s 29us/step - loss: 0.0139 - f1: 0.8884\nEpoch 71/90\n64317/64317 [==============================] - 2s 29us/step - loss: 0.0144 - f1: 0.9115\nEpoch 72/90\n64317/64317 [==============================] - 2s 28us/step - loss: 0.0149 - f1: 0.8786\nEpoch 73/90\n64317/64317 [==============================] - 2s 29us/step - loss: 0.0140 - f1: 0.8912\nEpoch 74/90\n64317/64317 [==============================] - 2s 28us/step - loss: 0.0148 - f1: 0.8716\nEpoch 75/90\n64317/64317 [==============================] - 2s 27us/step - loss: 0.0155 - f1: 0.8800\nEpoch 76/90\n64317/64317 [==============================] - 2s 27us/step - loss: 0.0148 - f1: 0.8844\nEpoch 77/90\n64317/64317 [==============================] - 2s 27us/step - loss: 0.0144 - f1: 0.8976\nEpoch 78/90\n64317/64317 [==============================] - 2s 27us/step - loss: 0.0142 - f1: 0.9056\nEpoch 79/90\n64317/64317 [==============================] - 2s 28us/step - loss: 0.0151 - f1: 0.9018\nEpoch 80/90\n64317/64317 [==============================] - 2s 28us/step - loss: 0.0153 - f1: 0.8472\nEpoch 81/90\n64317/64317 [==============================] - 2s 27us/step - loss: 0.0156 - f1: 0.8927\nEpoch 82/90\n64317/64317 [==============================] - 2s 27us/step - loss: 0.0158 - f1: 0.8872\nEpoch 83/90\n64317/64317 [==============================] - 2s 27us/step - loss: 0.0154 - f1: 0.8824\nEpoch 84/90\n64317/64317 [==============================] - 2s 27us/step - loss: 0.0260 - f1: 0.8484\nEpoch 85/90\n64317/64317 [==============================] - 2s 27us/step - loss: 0.0196 - f1: 0.8845\nEpoch 86/90\n64317/64317 [==============================] - 2s 27us/step - loss: 0.0184 - f1: 0.8917\nEpoch 87/90\n64317/64317 [==============================] - 2s 27us/step - loss: 0.0193 - f1: 0.8772\nEpoch 88/90\n64317/64317 [==============================] - 2s 27us/step - loss: 0.0175 - f1: 0.8846\nEpoch 89/90\n64317/64317 [==============================] - 2s 27us/step - loss: 0.0166 - f1: 0.8880\nEpoch 90/90\n64317/64317 [==============================] - 2s 27us/step - loss: 0.0171 - f1: 0.8757\n16080/16080 [==============================] - 0s 19us/step\n448\ncutoff 0.0018860698\nmissed_fraud 130\nmean missed fraud amt 0.08563852798527392\nEpoch 1/95\n64317/64317 [==============================] - 2s 26us/step - loss: 0.0171 - f1: 0.8760\nEpoch 2/95\n64317/64317 [==============================] - 2s 26us/step - loss: 0.0174 - f1: 0.8624\nEpoch 3/95\n64317/64317 [==============================] - 2s 27us/step - loss: 0.0176 - f1: 0.8672\nEpoch 4/95\n64317/64317 [==============================] - 2s 27us/step - loss: 0.0161 - f1: 0.8977\nEpoch 5/95\n64317/64317 [==============================] - 2s 27us/step - loss: 0.0180 - f1: 0.8836\nEpoch 6/95\n64317/64317 [==============================] - 2s 28us/step - loss: 0.0160 - f1: 0.8721\nEpoch 7/95\n64317/64317 [==============================] - 2s 27us/step - loss: 0.0160 - f1: 0.8593\nEpoch 8/95\n64317/64317 [==============================] - 2s 27us/step - loss: 0.0167 - f1: 0.8603\nEpoch 9/95\n64317/64317 [==============================] - 2s 27us/step - loss: 0.0187 - f1: 0.8829\nEpoch 10/95\n64317/64317 [==============================] - 2s 28us/step - loss: 0.0189 - f1: 0.8588\nEpoch 11/95\n64317/64317 [==============================] - 2s 27us/step - loss: 0.0174 - f1: 0.8795\nEpoch 12/95\n64317/64317 [==============================] - 2s 27us/step - loss: 0.0161 - f1: 0.8841\nEpoch 13/95\n64317/64317 [==============================] - 2s 27us/step - loss: 0.0177 - f1: 0.8916\nEpoch 14/95\n64317/64317 [==============================] - 2s 27us/step - loss: 0.0186 - f1: 0.8805\nEpoch 15/95\n64317/64317 [==============================] - 2s 27us/step - loss: 0.0174 - f1: 0.8771\nEpoch 16/95\n64317/64317 [==============================] - 2s 27us/step - loss: 0.0167 - f1: 0.8817\nEpoch 17/95\n64317/64317 [==============================] - 2s 27us/step - loss: 0.0170 - f1: 0.8915\nEpoch 18/95\n64317/64317 [==============================] - 2s 27us/step - loss: 0.0163 - f1: 0.8868\nEpoch 19/95\n64317/64317 [==============================] - 2s 27us/step - loss: 0.0162 - f1: 0.8906\nEpoch 20/95\n64317/64317 [==============================] - 2s 28us/step - loss: 0.0168 - f1: 0.9006\nEpoch 21/95\n64317/64317 [==============================] - 2s 28us/step - loss: 0.0178 - f1: 0.8737\nEpoch 22/95\n64317/64317 [==============================] - 2s 27us/step - loss: 0.0164 - f1: 0.8938\nEpoch 23/95\n64317/64317 [==============================] - 2s 27us/step - loss: 0.0168 - f1: 0.8976\nEpoch 24/95\n64317/64317 [==============================] - 2s 28us/step - loss: 0.0157 - f1: 0.9043\nEpoch 25/95\n64317/64317 [==============================] - 2s 27us/step - loss: 0.0158 - f1: 0.8857\nEpoch 26/95\n64317/64317 [==============================] - 2s 27us/step - loss: 0.0160 - f1: 0.8875\nEpoch 27/95\n64317/64317 [==============================] - 2s 27us/step - loss: 0.0148 - f1: 0.8799\nEpoch 28/95\n64317/64317 [==============================] - 2s 27us/step - loss: 0.0160 - f1: 0.8927\nEpoch 29/95\n64317/64317 [==============================] - 2s 27us/step - loss: 0.0146 - f1: 0.8949\nEpoch 30/95\n64317/64317 [==============================] - 2s 27us/step - loss: 0.0183 - f1: 0.8677\nEpoch 31/95\n64317/64317 [==============================] - 2s 28us/step - loss: 0.0189 - f1: 0.8606\nEpoch 32/95\n64317/64317 [==============================] - 2s 28us/step - loss: 0.0186 - f1: 0.8777\nEpoch 33/95\n64317/64317 [==============================] - 2s 27us/step - loss: 0.0171 - f1: 0.8893\nEpoch 34/95\n64317/64317 [==============================] - 2s 27us/step - loss: 0.0163 - f1: 0.8881\nEpoch 35/95\n64317/64317 [==============================] - 2s 27us/step - loss: 0.0158 - f1: 0.9061\nEpoch 36/95\n64317/64317 [==============================] - 2s 27us/step - loss: 0.0155 - f1: 0.8890\nEpoch 37/95\n64317/64317 [==============================] - 2s 27us/step - loss: 0.0150 - f1: 0.8927\nEpoch 38/95\n64317/64317 [==============================] - 2s 26us/step - loss: 0.0158 - f1: 0.8958\nEpoch 39/95\n64317/64317 [==============================] - 2s 26us/step - loss: 0.0146 - f1: 0.8985\nEpoch 40/95\n64317/64317 [==============================] - 2s 26us/step - loss: 0.0139 - f1: 0.9112\nEpoch 41/95\n64317/64317 [==============================] - 2s 28us/step - loss: 0.0144 - f1: 0.8994\nEpoch 42/95\n64317/64317 [==============================] - 2s 27us/step - loss: 0.0152 - f1: 0.9000\nEpoch 43/95\n64317/64317 [==============================] - 2s 27us/step - loss: 0.0149 - f1: 0.9085\nEpoch 44/95\n64317/64317 [==============================] - 2s 27us/step - loss: 0.0156 - f1: 0.8843\nEpoch 45/95\n64317/64317 [==============================] - 2s 28us/step - loss: 0.0156 - f1: 0.8777\nEpoch 46/95\n64317/64317 [==============================] - 2s 27us/step - loss: 0.0152 - f1: 0.8936\nEpoch 47/95\n64317/64317 [==============================] - 2s 27us/step - loss: 0.0160 - f1: 0.8753\nEpoch 48/95\n64317/64317 [==============================] - 2s 27us/step - loss: 0.0160 - f1: 0.9000\nEpoch 49/95\n64317/64317 [==============================] - 2s 27us/step - loss: 0.0162 - f1: 0.8756\nEpoch 50/95\n64317/64317 [==============================] - 2s 27us/step - loss: 0.0158 - f1: 0.8827\nEpoch 51/95\n64317/64317 [==============================] - 2s 27us/step - loss: 0.0153 - f1: 0.8967\nEpoch 52/95\n64317/64317 [==============================] - 2s 28us/step - loss: 0.0162 - f1: 0.9025\nEpoch 53/95\n64317/64317 [==============================] - 2s 27us/step - loss: 0.0140 - f1: 0.8854\nEpoch 54/95\n64317/64317 [==============================] - 2s 27us/step - loss: 0.0151 - f1: 0.9025\nEpoch 55/95\n64317/64317 [==============================] - 2s 27us/step - loss: 0.0153 - f1: 0.8806\nEpoch 56/95\n64317/64317 [==============================] - 2s 27us/step - loss: 0.0154 - f1: 0.8723\nEpoch 57/95\n64317/64317 [==============================] - 2s 27us/step - loss: 0.0143 - f1: 0.9140\nEpoch 58/95\n64317/64317 [==============================] - 2s 27us/step - loss: 0.0163 - f1: 0.8952\nEpoch 59/95\n64317/64317 [==============================] - 2s 27us/step - loss: 0.0149 - f1: 0.9042\nEpoch 60/95\n64317/64317 [==============================] - 2s 28us/step - loss: 0.0153 - f1: 0.8838\nEpoch 61/95\n64317/64317 [==============================] - 2s 27us/step - loss: 0.0147 - f1: 0.9013\nEpoch 62/95\n64317/64317 [==============================] - 2s 28us/step - loss: 0.0157 - f1: 0.8786\nEpoch 63/95\n64317/64317 [==============================] - 2s 27us/step - loss: 0.0156 - f1: 0.9101\nEpoch 64/95\n64317/64317 [==============================] - 2s 27us/step - loss: 0.0142 - f1: 0.9051\nEpoch 65/95\n64317/64317 [==============================] - 2s 27us/step - loss: 0.0150 - f1: 0.8893\nEpoch 66/95\n64317/64317 [==============================] - 2s 27us/step - loss: 0.0151 - f1: 0.8949\nEpoch 67/95\n64317/64317 [==============================] - 2s 27us/step - loss: 0.0140 - f1: 0.9041\nEpoch 68/95\n64317/64317 [==============================] - 2s 28us/step - loss: 0.0149 - f1: 0.9044\nEpoch 69/95\n64317/64317 [==============================] - 2s 29us/step - loss: 0.0153 - f1: 0.8575\nEpoch 70/95\n64317/64317 [==============================] - 2s 30us/step - loss: 0.0133 - f1: 0.9051\nEpoch 71/95\n64317/64317 [==============================] - 2s 30us/step - loss: 0.0155 - f1: 0.8875\nEpoch 72/95\n64317/64317 [==============================] - 2s 28us/step - loss: 0.0140 - f1: 0.9099\nEpoch 73/95\n64317/64317 [==============================] - 2s 30us/step - loss: 0.0133 - f1: 0.9111\nEpoch 74/95\n64317/64317 [==============================] - 2s 28us/step - loss: 0.0142 - f1: 0.9046\nEpoch 75/95\n64317/64317 [==============================] - 2s 27us/step - loss: 0.0151 - f1: 0.8941\nEpoch 76/95\n64317/64317 [==============================] - 2s 27us/step - loss: 0.0137 - f1: 0.8819\nEpoch 77/95\n64317/64317 [==============================] - 2s 27us/step - loss: 0.0140 - f1: 0.9026\nEpoch 78/95\n64317/64317 [==============================] - 2s 27us/step - loss: 0.0141 - f1: 0.8887\nEpoch 79/95\n64317/64317 [==============================] - 2s 26us/step - loss: 0.0143 - f1: 0.9117\nEpoch 80/95\n64317/64317 [==============================] - 2s 26us/step - loss: 0.0145 - f1: 0.8818\nEpoch 81/95\n64317/64317 [==============================] - 2s 26us/step - loss: 0.0151 - f1: 0.8936\nEpoch 82/95\n64317/64317 [==============================] - 2s 26us/step - loss: 0.0158 - f1: 0.8808\nEpoch 83/95\n64317/64317 [==============================] - 2s 26us/step - loss: 0.0165 - f1: 0.8940\nEpoch 84/95\n64317/64317 [==============================] - 2s 27us/step - loss: 0.0159 - f1: 0.8821\nEpoch 85/95\n64317/64317 [==============================] - 2s 27us/step - loss: 0.0153 - f1: 0.8688\nEpoch 86/95\n64317/64317 [==============================] - 2s 28us/step - loss: 0.0144 - f1: 0.8938\nEpoch 87/95\n64317/64317 [==============================] - 2s 27us/step - loss: 0.0146 - f1: 0.8984\nEpoch 88/95\n64317/64317 [==============================] - 2s 27us/step - loss: 0.0159 - f1: 0.8907\nEpoch 89/95\n64317/64317 [==============================] - 2s 28us/step - loss: 0.0152 - f1: 0.8943\nEpoch 90/95\n64317/64317 [==============================] - 2s 27us/step - loss: 0.0142 - f1: 0.8953\nEpoch 91/95\n64317/64317 [==============================] - 2s 28us/step - loss: 0.0153 - f1: 0.8977\nEpoch 92/95\n64317/64317 [==============================] - 2s 27us/step - loss: 0.0144 - f1: 0.9075\nEpoch 93/95\n64317/64317 [==============================] - 2s 28us/step - loss: 0.0151 - f1: 0.8905\nEpoch 94/95\n64317/64317 [==============================] - 2s 27us/step - loss: 0.0126 - f1: 0.9022\nEpoch 95/95\n64317/64317 [==============================] - 2s 27us/step - loss: 0.0152 - f1: 0.9059\n16080/16080 [==============================] - 0s 19us/step\n448\ncutoff 0.0020816028\nmissed_fraud 127\nmean missed fraud amt 0.1509320828908013\n[10, -11.574285143596626]\n"
    }
   ],
   "source": [
    "results = []\n",
    "epoch_set = list(np.arange (5, 100, 5))\n",
    "X_train = get_input_features(tr_df)\n",
    "X_valid = get_input_features(val_df)\n",
    "X_test = get_input_features(test_df)\n",
    "y_train = tr_df[target]\n",
    "y_valid = val_df[target]\n",
    "\n",
    "for epo in epoch_set:\n",
    "    hist = model.fit(X_train,y_train, batch_size = 8000, epochs = epo, verbose = 1)\n",
    "    valid_preds = model.predict(X_valid, batch_size = 500, verbose = True)\n",
    "    val_df_pred[target]=valid_preds\n",
    "    score = compute_loss(val_df_pred, val_df, 1600)\n",
    "\n",
    "    results.append([epo, score])"
   ]
  },
  {
   "cell_type": "code",
   "execution_count": 70,
   "metadata": {},
   "outputs": [
    {
     "output_type": "execute_result",
     "data": {
      "text/plain": "[[5, -1.763199762545522],\n [10, -11.574285143596626],\n [15, -3.281456293370682],\n [20, -1.9958740594672941],\n [25, 2.383325896904263],\n [30, -0.2616230528540418],\n [35, 13.966921305410178],\n [40, 8.012609421548131],\n [45, 17.904557974437605],\n [50, 22.268533260390257],\n [55, 15.986610968620145],\n [60, 11.234284162346057],\n [65, 4.929310654227628],\n [70, 12.31522180892555],\n [75, 12.07767422148219],\n [80, 19.10843234505678],\n [85, 16.562849645957794],\n [90, 11.13300863808561],\n [95, 19.168374527131764]]"
     },
     "metadata": {},
     "execution_count": 70
    }
   ],
   "source": [
    "results"
   ]
  },
  {
   "cell_type": "code",
   "execution_count": 29,
   "metadata": {},
   "outputs": [
    {
     "output_type": "display_data",
     "data": {
      "text/plain": "<Figure size 432x288 with 1 Axes>",
      "image/svg+xml": "<?xml version=\"1.0\" encoding=\"utf-8\" standalone=\"no\"?>\n<!DOCTYPE svg PUBLIC \"-//W3C//DTD SVG 1.1//EN\"\n  \"http://www.w3.org/Graphics/SVG/1.1/DTD/svg11.dtd\">\n<!-- Created with matplotlib (https://matplotlib.org/) -->\n<svg height=\"262.19625pt\" version=\"1.1\" viewBox=\"0 0 390.982812 262.19625\" width=\"390.982812pt\" xmlns=\"http://www.w3.org/2000/svg\" xmlns:xlink=\"http://www.w3.org/1999/xlink\">\n <defs>\n  <style type=\"text/css\">\n*{stroke-linecap:butt;stroke-linejoin:round;}\n  </style>\n </defs>\n <g id=\"figure_1\">\n  <g id=\"patch_1\">\n   <path d=\"M 0 262.19625 \nL 390.982812 262.19625 \nL 390.982812 0 \nL 0 0 \nz\n\" style=\"fill:none;\"/>\n  </g>\n  <g id=\"axes_1\">\n   <g id=\"patch_2\">\n    <path d=\"M 48.982813 224.64 \nL 383.782813 224.64 \nL 383.782813 7.2 \nL 48.982813 7.2 \nz\n\" style=\"fill:#ffffff;\"/>\n   </g>\n   <g id=\"matplotlib.axis_1\">\n    <g id=\"xtick_1\">\n     <g id=\"line2d_1\">\n      <defs>\n       <path d=\"M 0 0 \nL 0 3.5 \n\" id=\"m89e53aea86\" style=\"stroke:#000000;stroke-width:0.8;\"/>\n      </defs>\n      <g>\n       <use style=\"stroke:#000000;stroke-width:0.8;\" x=\"114.928267\" xlink:href=\"#m89e53aea86\" y=\"224.64\"/>\n      </g>\n     </g>\n     <g id=\"text_1\">\n      <!-- 20 -->\n      <defs>\n       <path d=\"M 19.1875 8.296875 \nL 53.609375 8.296875 \nL 53.609375 0 \nL 7.328125 0 \nL 7.328125 8.296875 \nQ 12.9375 14.109375 22.625 23.890625 \nQ 32.328125 33.6875 34.8125 36.53125 \nQ 39.546875 41.84375 41.421875 45.53125 \nQ 43.3125 49.21875 43.3125 52.78125 \nQ 43.3125 58.59375 39.234375 62.25 \nQ 35.15625 65.921875 28.609375 65.921875 \nQ 23.96875 65.921875 18.8125 64.3125 \nQ 13.671875 62.703125 7.8125 59.421875 \nL 7.8125 69.390625 \nQ 13.765625 71.78125 18.9375 73 \nQ 24.125 74.21875 28.421875 74.21875 \nQ 39.75 74.21875 46.484375 68.546875 \nQ 53.21875 62.890625 53.21875 53.421875 \nQ 53.21875 48.921875 51.53125 44.890625 \nQ 49.859375 40.875 45.40625 35.40625 \nQ 44.1875 33.984375 37.640625 27.21875 \nQ 31.109375 20.453125 19.1875 8.296875 \nz\n\" id=\"DejaVuSans-50\"/>\n       <path d=\"M 31.78125 66.40625 \nQ 24.171875 66.40625 20.328125 58.90625 \nQ 16.5 51.421875 16.5 36.375 \nQ 16.5 21.390625 20.328125 13.890625 \nQ 24.171875 6.390625 31.78125 6.390625 \nQ 39.453125 6.390625 43.28125 13.890625 \nQ 47.125 21.390625 47.125 36.375 \nQ 47.125 51.421875 43.28125 58.90625 \nQ 39.453125 66.40625 31.78125 66.40625 \nz\nM 31.78125 74.21875 \nQ 44.046875 74.21875 50.515625 64.515625 \nQ 56.984375 54.828125 56.984375 36.375 \nQ 56.984375 17.96875 50.515625 8.265625 \nQ 44.046875 -1.421875 31.78125 -1.421875 \nQ 19.53125 -1.421875 13.0625 8.265625 \nQ 6.59375 17.96875 6.59375 36.375 \nQ 6.59375 54.828125 13.0625 64.515625 \nQ 19.53125 74.21875 31.78125 74.21875 \nz\n\" id=\"DejaVuSans-48\"/>\n      </defs>\n      <g transform=\"translate(108.565767 239.238437)scale(0.1 -0.1)\">\n       <use xlink:href=\"#DejaVuSans-50\"/>\n       <use x=\"63.623047\" xlink:href=\"#DejaVuSans-48\"/>\n      </g>\n     </g>\n    </g>\n    <g id=\"xtick_2\">\n     <g id=\"line2d_2\">\n      <g>\n       <use style=\"stroke:#000000;stroke-width:0.8;\" x=\"182.564631\" xlink:href=\"#m89e53aea86\" y=\"224.64\"/>\n      </g>\n     </g>\n     <g id=\"text_2\">\n      <!-- 40 -->\n      <defs>\n       <path d=\"M 37.796875 64.3125 \nL 12.890625 25.390625 \nL 37.796875 25.390625 \nz\nM 35.203125 72.90625 \nL 47.609375 72.90625 \nL 47.609375 25.390625 \nL 58.015625 25.390625 \nL 58.015625 17.1875 \nL 47.609375 17.1875 \nL 47.609375 0 \nL 37.796875 0 \nL 37.796875 17.1875 \nL 4.890625 17.1875 \nL 4.890625 26.703125 \nz\n\" id=\"DejaVuSans-52\"/>\n      </defs>\n      <g transform=\"translate(176.202131 239.238437)scale(0.1 -0.1)\">\n       <use xlink:href=\"#DejaVuSans-52\"/>\n       <use x=\"63.623047\" xlink:href=\"#DejaVuSans-48\"/>\n      </g>\n     </g>\n    </g>\n    <g id=\"xtick_3\">\n     <g id=\"line2d_3\">\n      <g>\n       <use style=\"stroke:#000000;stroke-width:0.8;\" x=\"250.200994\" xlink:href=\"#m89e53aea86\" y=\"224.64\"/>\n      </g>\n     </g>\n     <g id=\"text_3\">\n      <!-- 60 -->\n      <defs>\n       <path d=\"M 33.015625 40.375 \nQ 26.375 40.375 22.484375 35.828125 \nQ 18.609375 31.296875 18.609375 23.390625 \nQ 18.609375 15.53125 22.484375 10.953125 \nQ 26.375 6.390625 33.015625 6.390625 \nQ 39.65625 6.390625 43.53125 10.953125 \nQ 47.40625 15.53125 47.40625 23.390625 \nQ 47.40625 31.296875 43.53125 35.828125 \nQ 39.65625 40.375 33.015625 40.375 \nz\nM 52.59375 71.296875 \nL 52.59375 62.3125 \nQ 48.875 64.0625 45.09375 64.984375 \nQ 41.3125 65.921875 37.59375 65.921875 \nQ 27.828125 65.921875 22.671875 59.328125 \nQ 17.53125 52.734375 16.796875 39.40625 \nQ 19.671875 43.65625 24.015625 45.921875 \nQ 28.375 48.1875 33.59375 48.1875 \nQ 44.578125 48.1875 50.953125 41.515625 \nQ 57.328125 34.859375 57.328125 23.390625 \nQ 57.328125 12.15625 50.6875 5.359375 \nQ 44.046875 -1.421875 33.015625 -1.421875 \nQ 20.359375 -1.421875 13.671875 8.265625 \nQ 6.984375 17.96875 6.984375 36.375 \nQ 6.984375 53.65625 15.1875 63.9375 \nQ 23.390625 74.21875 37.203125 74.21875 \nQ 40.921875 74.21875 44.703125 73.484375 \nQ 48.484375 72.75 52.59375 71.296875 \nz\n\" id=\"DejaVuSans-54\"/>\n      </defs>\n      <g transform=\"translate(243.838494 239.238437)scale(0.1 -0.1)\">\n       <use xlink:href=\"#DejaVuSans-54\"/>\n       <use x=\"63.623047\" xlink:href=\"#DejaVuSans-48\"/>\n      </g>\n     </g>\n    </g>\n    <g id=\"xtick_4\">\n     <g id=\"line2d_4\">\n      <g>\n       <use style=\"stroke:#000000;stroke-width:0.8;\" x=\"317.837358\" xlink:href=\"#m89e53aea86\" y=\"224.64\"/>\n      </g>\n     </g>\n     <g id=\"text_4\">\n      <!-- 80 -->\n      <defs>\n       <path d=\"M 31.78125 34.625 \nQ 24.75 34.625 20.71875 30.859375 \nQ 16.703125 27.09375 16.703125 20.515625 \nQ 16.703125 13.921875 20.71875 10.15625 \nQ 24.75 6.390625 31.78125 6.390625 \nQ 38.8125 6.390625 42.859375 10.171875 \nQ 46.921875 13.96875 46.921875 20.515625 \nQ 46.921875 27.09375 42.890625 30.859375 \nQ 38.875 34.625 31.78125 34.625 \nz\nM 21.921875 38.8125 \nQ 15.578125 40.375 12.03125 44.71875 \nQ 8.5 49.078125 8.5 55.328125 \nQ 8.5 64.0625 14.71875 69.140625 \nQ 20.953125 74.21875 31.78125 74.21875 \nQ 42.671875 74.21875 48.875 69.140625 \nQ 55.078125 64.0625 55.078125 55.328125 \nQ 55.078125 49.078125 51.53125 44.71875 \nQ 48 40.375 41.703125 38.8125 \nQ 48.828125 37.15625 52.796875 32.3125 \nQ 56.78125 27.484375 56.78125 20.515625 \nQ 56.78125 9.90625 50.3125 4.234375 \nQ 43.84375 -1.421875 31.78125 -1.421875 \nQ 19.734375 -1.421875 13.25 4.234375 \nQ 6.78125 9.90625 6.78125 20.515625 \nQ 6.78125 27.484375 10.78125 32.3125 \nQ 14.796875 37.15625 21.921875 38.8125 \nz\nM 18.3125 54.390625 \nQ 18.3125 48.734375 21.84375 45.5625 \nQ 25.390625 42.390625 31.78125 42.390625 \nQ 38.140625 42.390625 41.71875 45.5625 \nQ 45.3125 48.734375 45.3125 54.390625 \nQ 45.3125 60.0625 41.71875 63.234375 \nQ 38.140625 66.40625 31.78125 66.40625 \nQ 25.390625 66.40625 21.84375 63.234375 \nQ 18.3125 60.0625 18.3125 54.390625 \nz\n\" id=\"DejaVuSans-56\"/>\n      </defs>\n      <g transform=\"translate(311.474858 239.238437)scale(0.1 -0.1)\">\n       <use xlink:href=\"#DejaVuSans-56\"/>\n       <use x=\"63.623047\" xlink:href=\"#DejaVuSans-48\"/>\n      </g>\n     </g>\n    </g>\n    <g id=\"text_5\">\n     <!-- Number of Epochs -->\n     <defs>\n      <path d=\"M 9.8125 72.90625 \nL 23.09375 72.90625 \nL 55.421875 11.921875 \nL 55.421875 72.90625 \nL 64.984375 72.90625 \nL 64.984375 0 \nL 51.703125 0 \nL 19.390625 60.984375 \nL 19.390625 0 \nL 9.8125 0 \nz\n\" id=\"DejaVuSans-78\"/>\n      <path d=\"M 8.5 21.578125 \nL 8.5 54.6875 \nL 17.484375 54.6875 \nL 17.484375 21.921875 \nQ 17.484375 14.15625 20.5 10.265625 \nQ 23.53125 6.390625 29.59375 6.390625 \nQ 36.859375 6.390625 41.078125 11.03125 \nQ 45.3125 15.671875 45.3125 23.6875 \nL 45.3125 54.6875 \nL 54.296875 54.6875 \nL 54.296875 0 \nL 45.3125 0 \nL 45.3125 8.40625 \nQ 42.046875 3.421875 37.71875 1 \nQ 33.40625 -1.421875 27.6875 -1.421875 \nQ 18.265625 -1.421875 13.375 4.4375 \nQ 8.5 10.296875 8.5 21.578125 \nz\nM 31.109375 56 \nz\n\" id=\"DejaVuSans-117\"/>\n      <path d=\"M 52 44.1875 \nQ 55.375 50.25 60.0625 53.125 \nQ 64.75 56 71.09375 56 \nQ 79.640625 56 84.28125 50.015625 \nQ 88.921875 44.046875 88.921875 33.015625 \nL 88.921875 0 \nL 79.890625 0 \nL 79.890625 32.71875 \nQ 79.890625 40.578125 77.09375 44.375 \nQ 74.3125 48.1875 68.609375 48.1875 \nQ 61.625 48.1875 57.5625 43.546875 \nQ 53.515625 38.921875 53.515625 30.90625 \nL 53.515625 0 \nL 44.484375 0 \nL 44.484375 32.71875 \nQ 44.484375 40.625 41.703125 44.40625 \nQ 38.921875 48.1875 33.109375 48.1875 \nQ 26.21875 48.1875 22.15625 43.53125 \nQ 18.109375 38.875 18.109375 30.90625 \nL 18.109375 0 \nL 9.078125 0 \nL 9.078125 54.6875 \nL 18.109375 54.6875 \nL 18.109375 46.1875 \nQ 21.1875 51.21875 25.484375 53.609375 \nQ 29.78125 56 35.6875 56 \nQ 41.65625 56 45.828125 52.96875 \nQ 50 49.953125 52 44.1875 \nz\n\" id=\"DejaVuSans-109\"/>\n      <path d=\"M 48.6875 27.296875 \nQ 48.6875 37.203125 44.609375 42.84375 \nQ 40.53125 48.484375 33.40625 48.484375 \nQ 26.265625 48.484375 22.1875 42.84375 \nQ 18.109375 37.203125 18.109375 27.296875 \nQ 18.109375 17.390625 22.1875 11.75 \nQ 26.265625 6.109375 33.40625 6.109375 \nQ 40.53125 6.109375 44.609375 11.75 \nQ 48.6875 17.390625 48.6875 27.296875 \nz\nM 18.109375 46.390625 \nQ 20.953125 51.265625 25.265625 53.625 \nQ 29.59375 56 35.59375 56 \nQ 45.5625 56 51.78125 48.09375 \nQ 58.015625 40.1875 58.015625 27.296875 \nQ 58.015625 14.40625 51.78125 6.484375 \nQ 45.5625 -1.421875 35.59375 -1.421875 \nQ 29.59375 -1.421875 25.265625 0.953125 \nQ 20.953125 3.328125 18.109375 8.203125 \nL 18.109375 0 \nL 9.078125 0 \nL 9.078125 75.984375 \nL 18.109375 75.984375 \nz\n\" id=\"DejaVuSans-98\"/>\n      <path d=\"M 56.203125 29.59375 \nL 56.203125 25.203125 \nL 14.890625 25.203125 \nQ 15.484375 15.921875 20.484375 11.0625 \nQ 25.484375 6.203125 34.421875 6.203125 \nQ 39.59375 6.203125 44.453125 7.46875 \nQ 49.3125 8.734375 54.109375 11.28125 \nL 54.109375 2.78125 \nQ 49.265625 0.734375 44.1875 -0.34375 \nQ 39.109375 -1.421875 33.890625 -1.421875 \nQ 20.796875 -1.421875 13.15625 6.1875 \nQ 5.515625 13.8125 5.515625 26.8125 \nQ 5.515625 40.234375 12.765625 48.109375 \nQ 20.015625 56 32.328125 56 \nQ 43.359375 56 49.78125 48.890625 \nQ 56.203125 41.796875 56.203125 29.59375 \nz\nM 47.21875 32.234375 \nQ 47.125 39.59375 43.09375 43.984375 \nQ 39.0625 48.390625 32.421875 48.390625 \nQ 24.90625 48.390625 20.390625 44.140625 \nQ 15.875 39.890625 15.1875 32.171875 \nz\n\" id=\"DejaVuSans-101\"/>\n      <path d=\"M 41.109375 46.296875 \nQ 39.59375 47.171875 37.8125 47.578125 \nQ 36.03125 48 33.890625 48 \nQ 26.265625 48 22.1875 43.046875 \nQ 18.109375 38.09375 18.109375 28.8125 \nL 18.109375 0 \nL 9.078125 0 \nL 9.078125 54.6875 \nL 18.109375 54.6875 \nL 18.109375 46.1875 \nQ 20.953125 51.171875 25.484375 53.578125 \nQ 30.03125 56 36.53125 56 \nQ 37.453125 56 38.578125 55.875 \nQ 39.703125 55.765625 41.0625 55.515625 \nz\n\" id=\"DejaVuSans-114\"/>\n      <path id=\"DejaVuSans-32\"/>\n      <path d=\"M 30.609375 48.390625 \nQ 23.390625 48.390625 19.1875 42.75 \nQ 14.984375 37.109375 14.984375 27.296875 \nQ 14.984375 17.484375 19.15625 11.84375 \nQ 23.34375 6.203125 30.609375 6.203125 \nQ 37.796875 6.203125 41.984375 11.859375 \nQ 46.1875 17.53125 46.1875 27.296875 \nQ 46.1875 37.015625 41.984375 42.703125 \nQ 37.796875 48.390625 30.609375 48.390625 \nz\nM 30.609375 56 \nQ 42.328125 56 49.015625 48.375 \nQ 55.71875 40.765625 55.71875 27.296875 \nQ 55.71875 13.875 49.015625 6.21875 \nQ 42.328125 -1.421875 30.609375 -1.421875 \nQ 18.84375 -1.421875 12.171875 6.21875 \nQ 5.515625 13.875 5.515625 27.296875 \nQ 5.515625 40.765625 12.171875 48.375 \nQ 18.84375 56 30.609375 56 \nz\n\" id=\"DejaVuSans-111\"/>\n      <path d=\"M 37.109375 75.984375 \nL 37.109375 68.5 \nL 28.515625 68.5 \nQ 23.6875 68.5 21.796875 66.546875 \nQ 19.921875 64.59375 19.921875 59.515625 \nL 19.921875 54.6875 \nL 34.71875 54.6875 \nL 34.71875 47.703125 \nL 19.921875 47.703125 \nL 19.921875 0 \nL 10.890625 0 \nL 10.890625 47.703125 \nL 2.296875 47.703125 \nL 2.296875 54.6875 \nL 10.890625 54.6875 \nL 10.890625 58.5 \nQ 10.890625 67.625 15.140625 71.796875 \nQ 19.390625 75.984375 28.609375 75.984375 \nz\n\" id=\"DejaVuSans-102\"/>\n      <path d=\"M 9.8125 72.90625 \nL 55.90625 72.90625 \nL 55.90625 64.59375 \nL 19.671875 64.59375 \nL 19.671875 43.015625 \nL 54.390625 43.015625 \nL 54.390625 34.71875 \nL 19.671875 34.71875 \nL 19.671875 8.296875 \nL 56.78125 8.296875 \nL 56.78125 0 \nL 9.8125 0 \nz\n\" id=\"DejaVuSans-69\"/>\n      <path d=\"M 18.109375 8.203125 \nL 18.109375 -20.796875 \nL 9.078125 -20.796875 \nL 9.078125 54.6875 \nL 18.109375 54.6875 \nL 18.109375 46.390625 \nQ 20.953125 51.265625 25.265625 53.625 \nQ 29.59375 56 35.59375 56 \nQ 45.5625 56 51.78125 48.09375 \nQ 58.015625 40.1875 58.015625 27.296875 \nQ 58.015625 14.40625 51.78125 6.484375 \nQ 45.5625 -1.421875 35.59375 -1.421875 \nQ 29.59375 -1.421875 25.265625 0.953125 \nQ 20.953125 3.328125 18.109375 8.203125 \nz\nM 48.6875 27.296875 \nQ 48.6875 37.203125 44.609375 42.84375 \nQ 40.53125 48.484375 33.40625 48.484375 \nQ 26.265625 48.484375 22.1875 42.84375 \nQ 18.109375 37.203125 18.109375 27.296875 \nQ 18.109375 17.390625 22.1875 11.75 \nQ 26.265625 6.109375 33.40625 6.109375 \nQ 40.53125 6.109375 44.609375 11.75 \nQ 48.6875 17.390625 48.6875 27.296875 \nz\n\" id=\"DejaVuSans-112\"/>\n      <path d=\"M 48.78125 52.59375 \nL 48.78125 44.1875 \nQ 44.96875 46.296875 41.140625 47.34375 \nQ 37.3125 48.390625 33.40625 48.390625 \nQ 24.65625 48.390625 19.8125 42.84375 \nQ 14.984375 37.3125 14.984375 27.296875 \nQ 14.984375 17.28125 19.8125 11.734375 \nQ 24.65625 6.203125 33.40625 6.203125 \nQ 37.3125 6.203125 41.140625 7.25 \nQ 44.96875 8.296875 48.78125 10.40625 \nL 48.78125 2.09375 \nQ 45.015625 0.34375 40.984375 -0.53125 \nQ 36.96875 -1.421875 32.421875 -1.421875 \nQ 20.0625 -1.421875 12.78125 6.34375 \nQ 5.515625 14.109375 5.515625 27.296875 \nQ 5.515625 40.671875 12.859375 48.328125 \nQ 20.21875 56 33.015625 56 \nQ 37.15625 56 41.109375 55.140625 \nQ 45.0625 54.296875 48.78125 52.59375 \nz\n\" id=\"DejaVuSans-99\"/>\n      <path d=\"M 54.890625 33.015625 \nL 54.890625 0 \nL 45.90625 0 \nL 45.90625 32.71875 \nQ 45.90625 40.484375 42.875 44.328125 \nQ 39.84375 48.1875 33.796875 48.1875 \nQ 26.515625 48.1875 22.3125 43.546875 \nQ 18.109375 38.921875 18.109375 30.90625 \nL 18.109375 0 \nL 9.078125 0 \nL 9.078125 75.984375 \nL 18.109375 75.984375 \nL 18.109375 46.1875 \nQ 21.34375 51.125 25.703125 53.5625 \nQ 30.078125 56 35.796875 56 \nQ 45.21875 56 50.046875 50.171875 \nQ 54.890625 44.34375 54.890625 33.015625 \nz\n\" id=\"DejaVuSans-104\"/>\n      <path d=\"M 44.28125 53.078125 \nL 44.28125 44.578125 \nQ 40.484375 46.53125 36.375 47.5 \nQ 32.28125 48.484375 27.875 48.484375 \nQ 21.1875 48.484375 17.84375 46.4375 \nQ 14.5 44.390625 14.5 40.28125 \nQ 14.5 37.15625 16.890625 35.375 \nQ 19.28125 33.59375 26.515625 31.984375 \nL 29.59375 31.296875 \nQ 39.15625 29.25 43.1875 25.515625 \nQ 47.21875 21.78125 47.21875 15.09375 \nQ 47.21875 7.46875 41.1875 3.015625 \nQ 35.15625 -1.421875 24.609375 -1.421875 \nQ 20.21875 -1.421875 15.453125 -0.5625 \nQ 10.6875 0.296875 5.421875 2 \nL 5.421875 11.28125 \nQ 10.40625 8.6875 15.234375 7.390625 \nQ 20.0625 6.109375 24.8125 6.109375 \nQ 31.15625 6.109375 34.5625 8.28125 \nQ 37.984375 10.453125 37.984375 14.40625 \nQ 37.984375 18.0625 35.515625 20.015625 \nQ 33.0625 21.96875 24.703125 23.78125 \nL 21.578125 24.515625 \nQ 13.234375 26.265625 9.515625 29.90625 \nQ 5.8125 33.546875 5.8125 39.890625 \nQ 5.8125 47.609375 11.28125 51.796875 \nQ 16.75 56 26.8125 56 \nQ 31.78125 56 36.171875 55.265625 \nQ 40.578125 54.546875 44.28125 53.078125 \nz\n\" id=\"DejaVuSans-115\"/>\n     </defs>\n     <g transform=\"translate(170.383594 252.916562)scale(0.1 -0.1)\">\n      <use xlink:href=\"#DejaVuSans-78\"/>\n      <use x=\"74.804688\" xlink:href=\"#DejaVuSans-117\"/>\n      <use x=\"138.183594\" xlink:href=\"#DejaVuSans-109\"/>\n      <use x=\"235.595703\" xlink:href=\"#DejaVuSans-98\"/>\n      <use x=\"299.072266\" xlink:href=\"#DejaVuSans-101\"/>\n      <use x=\"360.595703\" xlink:href=\"#DejaVuSans-114\"/>\n      <use x=\"401.708984\" xlink:href=\"#DejaVuSans-32\"/>\n      <use x=\"433.496094\" xlink:href=\"#DejaVuSans-111\"/>\n      <use x=\"494.677734\" xlink:href=\"#DejaVuSans-102\"/>\n      <use x=\"529.882812\" xlink:href=\"#DejaVuSans-32\"/>\n      <use x=\"561.669922\" xlink:href=\"#DejaVuSans-69\"/>\n      <use x=\"624.853516\" xlink:href=\"#DejaVuSans-112\"/>\n      <use x=\"688.330078\" xlink:href=\"#DejaVuSans-111\"/>\n      <use x=\"749.511719\" xlink:href=\"#DejaVuSans-99\"/>\n      <use x=\"804.492188\" xlink:href=\"#DejaVuSans-104\"/>\n      <use x=\"867.871094\" xlink:href=\"#DejaVuSans-115\"/>\n     </g>\n    </g>\n   </g>\n   <g id=\"matplotlib.axis_2\">\n    <g id=\"ytick_1\">\n     <g id=\"line2d_5\">\n      <defs>\n       <path d=\"M 0 0 \nL -3.5 0 \n\" id=\"m47de7f34db\" style=\"stroke:#000000;stroke-width:0.8;\"/>\n      </defs>\n      <g>\n       <use style=\"stroke:#000000;stroke-width:0.8;\" x=\"48.982813\" xlink:href=\"#m47de7f34db\" y=\"205.561112\"/>\n      </g>\n     </g>\n     <g id=\"text_6\">\n      <!-- −10 -->\n      <defs>\n       <path d=\"M 10.59375 35.5 \nL 73.1875 35.5 \nL 73.1875 27.203125 \nL 10.59375 27.203125 \nz\n\" id=\"DejaVuSans-8722\"/>\n       <path d=\"M 12.40625 8.296875 \nL 28.515625 8.296875 \nL 28.515625 63.921875 \nL 10.984375 60.40625 \nL 10.984375 69.390625 \nL 28.421875 72.90625 \nL 38.28125 72.90625 \nL 38.28125 8.296875 \nL 54.390625 8.296875 \nL 54.390625 0 \nL 12.40625 0 \nz\n\" id=\"DejaVuSans-49\"/>\n      </defs>\n      <g transform=\"translate(20.878125 209.360331)scale(0.1 -0.1)\">\n       <use xlink:href=\"#DejaVuSans-8722\"/>\n       <use x=\"83.789062\" xlink:href=\"#DejaVuSans-49\"/>\n       <use x=\"147.412109\" xlink:href=\"#DejaVuSans-48\"/>\n      </g>\n     </g>\n    </g>\n    <g id=\"ytick_2\">\n     <g id=\"line2d_6\">\n      <g>\n       <use style=\"stroke:#000000;stroke-width:0.8;\" x=\"48.982813\" xlink:href=\"#m47de7f34db\" y=\"176.356581\"/>\n      </g>\n     </g>\n     <g id=\"text_7\">\n      <!-- −5 -->\n      <defs>\n       <path d=\"M 10.796875 72.90625 \nL 49.515625 72.90625 \nL 49.515625 64.59375 \nL 19.828125 64.59375 \nL 19.828125 46.734375 \nQ 21.96875 47.46875 24.109375 47.828125 \nQ 26.265625 48.1875 28.421875 48.1875 \nQ 40.625 48.1875 47.75 41.5 \nQ 54.890625 34.8125 54.890625 23.390625 \nQ 54.890625 11.625 47.5625 5.09375 \nQ 40.234375 -1.421875 26.90625 -1.421875 \nQ 22.3125 -1.421875 17.546875 -0.640625 \nQ 12.796875 0.140625 7.71875 1.703125 \nL 7.71875 11.625 \nQ 12.109375 9.234375 16.796875 8.0625 \nQ 21.484375 6.890625 26.703125 6.890625 \nQ 35.15625 6.890625 40.078125 11.328125 \nQ 45.015625 15.765625 45.015625 23.390625 \nQ 45.015625 31 40.078125 35.4375 \nQ 35.15625 39.890625 26.703125 39.890625 \nQ 22.75 39.890625 18.8125 39.015625 \nQ 14.890625 38.140625 10.796875 36.28125 \nz\n\" id=\"DejaVuSans-53\"/>\n      </defs>\n      <g transform=\"translate(27.240625 180.1558)scale(0.1 -0.1)\">\n       <use xlink:href=\"#DejaVuSans-8722\"/>\n       <use x=\"83.789062\" xlink:href=\"#DejaVuSans-53\"/>\n      </g>\n     </g>\n    </g>\n    <g id=\"ytick_3\">\n     <g id=\"line2d_7\">\n      <g>\n       <use style=\"stroke:#000000;stroke-width:0.8;\" x=\"48.982813\" xlink:href=\"#m47de7f34db\" y=\"147.15205\"/>\n      </g>\n     </g>\n     <g id=\"text_8\">\n      <!-- 0 -->\n      <g transform=\"translate(35.620312 150.951269)scale(0.1 -0.1)\">\n       <use xlink:href=\"#DejaVuSans-48\"/>\n      </g>\n     </g>\n    </g>\n    <g id=\"ytick_4\">\n     <g id=\"line2d_8\">\n      <g>\n       <use style=\"stroke:#000000;stroke-width:0.8;\" x=\"48.982813\" xlink:href=\"#m47de7f34db\" y=\"117.947519\"/>\n      </g>\n     </g>\n     <g id=\"text_9\">\n      <!-- 5 -->\n      <g transform=\"translate(35.620312 121.746738)scale(0.1 -0.1)\">\n       <use xlink:href=\"#DejaVuSans-53\"/>\n      </g>\n     </g>\n    </g>\n    <g id=\"ytick_5\">\n     <g id=\"line2d_9\">\n      <g>\n       <use style=\"stroke:#000000;stroke-width:0.8;\" x=\"48.982813\" xlink:href=\"#m47de7f34db\" y=\"88.742988\"/>\n      </g>\n     </g>\n     <g id=\"text_10\">\n      <!-- 10 -->\n      <g transform=\"translate(29.257812 92.542207)scale(0.1 -0.1)\">\n       <use xlink:href=\"#DejaVuSans-49\"/>\n       <use x=\"63.623047\" xlink:href=\"#DejaVuSans-48\"/>\n      </g>\n     </g>\n    </g>\n    <g id=\"ytick_6\">\n     <g id=\"line2d_10\">\n      <g>\n       <use style=\"stroke:#000000;stroke-width:0.8;\" x=\"48.982813\" xlink:href=\"#m47de7f34db\" y=\"59.538457\"/>\n      </g>\n     </g>\n     <g id=\"text_11\">\n      <!-- 15 -->\n      <g transform=\"translate(29.257812 63.337676)scale(0.1 -0.1)\">\n       <use xlink:href=\"#DejaVuSans-49\"/>\n       <use x=\"63.623047\" xlink:href=\"#DejaVuSans-53\"/>\n      </g>\n     </g>\n    </g>\n    <g id=\"ytick_7\">\n     <g id=\"line2d_11\">\n      <g>\n       <use style=\"stroke:#000000;stroke-width:0.8;\" x=\"48.982813\" xlink:href=\"#m47de7f34db\" y=\"30.333926\"/>\n      </g>\n     </g>\n     <g id=\"text_12\">\n      <!-- 20 -->\n      <g transform=\"translate(29.257812 34.133145)scale(0.1 -0.1)\">\n       <use xlink:href=\"#DejaVuSans-50\"/>\n       <use x=\"63.623047\" xlink:href=\"#DejaVuSans-48\"/>\n      </g>\n     </g>\n    </g>\n    <g id=\"text_13\">\n     <!-- Real Loss -->\n     <defs>\n      <path d=\"M 44.390625 34.1875 \nQ 47.5625 33.109375 50.5625 29.59375 \nQ 53.5625 26.078125 56.59375 19.921875 \nL 66.609375 0 \nL 56 0 \nL 46.6875 18.703125 \nQ 43.0625 26.03125 39.671875 28.421875 \nQ 36.28125 30.8125 30.421875 30.8125 \nL 19.671875 30.8125 \nL 19.671875 0 \nL 9.8125 0 \nL 9.8125 72.90625 \nL 32.078125 72.90625 \nQ 44.578125 72.90625 50.734375 67.671875 \nQ 56.890625 62.453125 56.890625 51.90625 \nQ 56.890625 45.015625 53.6875 40.46875 \nQ 50.484375 35.9375 44.390625 34.1875 \nz\nM 19.671875 64.796875 \nL 19.671875 38.921875 \nL 32.078125 38.921875 \nQ 39.203125 38.921875 42.84375 42.21875 \nQ 46.484375 45.515625 46.484375 51.90625 \nQ 46.484375 58.296875 42.84375 61.546875 \nQ 39.203125 64.796875 32.078125 64.796875 \nz\n\" id=\"DejaVuSans-82\"/>\n      <path d=\"M 34.28125 27.484375 \nQ 23.390625 27.484375 19.1875 25 \nQ 14.984375 22.515625 14.984375 16.5 \nQ 14.984375 11.71875 18.140625 8.90625 \nQ 21.296875 6.109375 26.703125 6.109375 \nQ 34.1875 6.109375 38.703125 11.40625 \nQ 43.21875 16.703125 43.21875 25.484375 \nL 43.21875 27.484375 \nz\nM 52.203125 31.203125 \nL 52.203125 0 \nL 43.21875 0 \nL 43.21875 8.296875 \nQ 40.140625 3.328125 35.546875 0.953125 \nQ 30.953125 -1.421875 24.3125 -1.421875 \nQ 15.921875 -1.421875 10.953125 3.296875 \nQ 6 8.015625 6 15.921875 \nQ 6 25.140625 12.171875 29.828125 \nQ 18.359375 34.515625 30.609375 34.515625 \nL 43.21875 34.515625 \nL 43.21875 35.40625 \nQ 43.21875 41.609375 39.140625 45 \nQ 35.0625 48.390625 27.6875 48.390625 \nQ 23 48.390625 18.546875 47.265625 \nQ 14.109375 46.140625 10.015625 43.890625 \nL 10.015625 52.203125 \nQ 14.9375 54.109375 19.578125 55.046875 \nQ 24.21875 56 28.609375 56 \nQ 40.484375 56 46.34375 49.84375 \nQ 52.203125 43.703125 52.203125 31.203125 \nz\n\" id=\"DejaVuSans-97\"/>\n      <path d=\"M 9.421875 75.984375 \nL 18.40625 75.984375 \nL 18.40625 0 \nL 9.421875 0 \nz\n\" id=\"DejaVuSans-108\"/>\n      <path d=\"M 9.8125 72.90625 \nL 19.671875 72.90625 \nL 19.671875 8.296875 \nL 55.171875 8.296875 \nL 55.171875 0 \nL 9.8125 0 \nz\n\" id=\"DejaVuSans-76\"/>\n     </defs>\n     <g transform=\"translate(14.798437 139.56375)rotate(-90)scale(0.1 -0.1)\">\n      <use xlink:href=\"#DejaVuSans-82\"/>\n      <use x=\"69.419922\" xlink:href=\"#DejaVuSans-101\"/>\n      <use x=\"130.943359\" xlink:href=\"#DejaVuSans-97\"/>\n      <use x=\"192.222656\" xlink:href=\"#DejaVuSans-108\"/>\n      <use x=\"220.005859\" xlink:href=\"#DejaVuSans-32\"/>\n      <use x=\"251.792969\" xlink:href=\"#DejaVuSans-76\"/>\n      <use x=\"307.490234\" xlink:href=\"#DejaVuSans-111\"/>\n      <use x=\"368.671875\" xlink:href=\"#DejaVuSans-115\"/>\n      <use x=\"420.771484\" xlink:href=\"#DejaVuSans-115\"/>\n     </g>\n    </g>\n   </g>\n   <g id=\"line2d_12\">\n    <path clip-path=\"url(#pf43fea2f48)\" d=\"M 64.200994 157.450734 \nL 81.110085 214.756364 \nL 98.019176 166.318728 \nL 114.928267 158.809763 \nL 131.837358 133.231267 \nL 148.746449 148.680166 \nL 165.65554 65.572573 \nL 182.564631 100.35115 \nL 199.473722 42.573207 \nL 216.382813 17.083636 \nL 233.291903 53.775755 \nL 250.200994 81.53365 \nL 267.110085 118.360409 \nL 284.019176 75.219995 \nL 300.928267 76.607488 \nL 317.837358 35.541489 \nL 334.746449 50.409999 \nL 351.65554 82.125191 \nL 368.564631 35.191373 \n\" style=\"fill:none;stroke:#1f77b4;stroke-linecap:square;stroke-width:1.5;\"/>\n   </g>\n   <g id=\"patch_3\">\n    <path d=\"M 48.982813 224.64 \nL 48.982813 7.2 \n\" style=\"fill:none;stroke:#000000;stroke-linecap:square;stroke-linejoin:miter;stroke-width:0.8;\"/>\n   </g>\n   <g id=\"patch_4\">\n    <path d=\"M 383.782813 224.64 \nL 383.782813 7.2 \n\" style=\"fill:none;stroke:#000000;stroke-linecap:square;stroke-linejoin:miter;stroke-width:0.8;\"/>\n   </g>\n   <g id=\"patch_5\">\n    <path d=\"M 48.982813 224.64 \nL 383.782813 224.64 \n\" style=\"fill:none;stroke:#000000;stroke-linecap:square;stroke-linejoin:miter;stroke-width:0.8;\"/>\n   </g>\n   <g id=\"patch_6\">\n    <path d=\"M 48.982813 7.2 \nL 383.782813 7.2 \n\" style=\"fill:none;stroke:#000000;stroke-linecap:square;stroke-linejoin:miter;stroke-width:0.8;\"/>\n   </g>\n  </g>\n </g>\n <defs>\n  <clipPath id=\"pf43fea2f48\">\n   <rect height=\"217.44\" width=\"334.8\" x=\"48.982813\" y=\"7.2\"/>\n  </clipPath>\n </defs>\n</svg>\n",
      "image/png": "[encoded data removed]"
     },
     "metadata": {
      "needs_background": "light"
     }
    }
   ],
   "source": [
    "import matplotlib.pyplot as plt\n",
    "\n",
    "results = np.array(results)\n",
    "plt.plot(results[:,0],results[:,1]) \n",
    "plt.xlabel('Number of Epochs')\n",
    "plt.ylabel('Real Loss')\n",
    "plt.show()"
   ]
  },
  {
   "cell_type": "code",
   "execution_count": 79,
   "metadata": {
    "tags": []
   },
   "outputs": [
    {
     "output_type": "stream",
     "name": "stdout",
     "text": "Epoch 1/2\n64317/64317 [==============================] - 1s 23us/step - loss: 0.0141 - f1: 0.9082\nEpoch 2/2\n64317/64317 [==============================] - 1s 23us/step - loss: 0.0144 - f1: 0.9076\n16080/16080 [==============================] - 0s 14us/step\n64317/64317 [==============================] - 1s 15us/step\n448\ncutoff 0.0014043152\nmissed_fraud 128\nmean missed fraud amt 0.12479365445465179\n1668\ncutoff 0.00041380525\nmissed_fraud 0\nmean missed fraud amt nan\nEpoch 1/4\n64317/64317 [==============================] - 2s 24us/step - loss: 0.0130 - f1: 0.9006\nEpoch 2/4\n64317/64317 [==============================] - 2s 26us/step - loss: 0.0132 - f1: 0.9047\nEpoch 3/4\n64317/64317 [==============================] - 2s 26us/step - loss: 0.0125 - f1: 0.9159\nEpoch 4/4\n64317/64317 [==============================] - 2s 25us/step - loss: 0.0125 - f1: 0.9158\n16080/16080 [==============================] - 0s 17us/step\n64317/64317 [==============================] - 1s 16us/step\n448\ncutoff 0.001105845\nmissed_fraud 134\nmean missed fraud amt 0.0866135596199936\n1668\ncutoff 0.0002836585\nmissed_fraud 0\nmean missed fraud amt nan\nEpoch 1/6\n64317/64317 [==============================] - 2s 26us/step - loss: 0.0138 - f1: 0.9119\nEpoch 2/6\n64317/64317 [==============================] - 2s 26us/step - loss: 0.0147 - f1: 0.9041\nEpoch 3/6\n64317/64317 [==============================] - 2s 27us/step - loss: 0.0144 - f1: 0.8993\nEpoch 4/6\n64317/64317 [==============================] - 2s 26us/step - loss: 0.0133 - f1: 0.8958\nEpoch 5/6\n64317/64317 [==============================] - 2s 27us/step - loss: 0.0140 - f1: 0.8930\nEpoch 6/6\n64317/64317 [==============================] - 2s 27us/step - loss: 0.0145 - f1: 0.9003\n16080/16080 [==============================] - 0s 17us/step\n64317/64317 [==============================] - 1s 18us/step\n448\ncutoff 0.002218008\nmissed_fraud 132\nmean missed fraud amt 0.15465451771490915\n1668\ncutoff 0.0005426109\nmissed_fraud 0\nmean missed fraud amt nan\nEpoch 1/8\n64317/64317 [==============================] - 2s 27us/step - loss: 0.0131 - f1: 0.9177\nEpoch 2/8\n64317/64317 [==============================] - 2s 26us/step - loss: 0.0127 - f1: 0.9063\nEpoch 3/8\n64317/64317 [==============================] - 2s 27us/step - loss: 0.0134 - f1: 0.8936\nEpoch 4/8\n64317/64317 [==============================] - 2s 27us/step - loss: 0.0142 - f1: 0.8943\nEpoch 5/8\n64317/64317 [==============================] - 2s 28us/step - loss: 0.0144 - f1: 0.8952\nEpoch 6/8\n64317/64317 [==============================] - 2s 28us/step - loss: 0.0149 - f1: 0.8929\nEpoch 7/8\n64317/64317 [==============================] - 2s 29us/step - loss: 0.0148 - f1: 0.8869\nEpoch 8/8\n64317/64317 [==============================] - 2s 28us/step - loss: 0.0140 - f1: 0.9132\n16080/16080 [==============================] - 0s 18us/step\n64317/64317 [==============================] - 1s 17us/step\n448\ncutoff 0.0029971302\nmissed_fraud 135\nmean missed fraud amt 0.1330386115549713\n1668\ncutoff 0.0006979406\nmissed_fraud 0\nmean missed fraud amt nan\nEpoch 1/10\n64317/64317 [==============================] - 2s 26us/step - loss: 0.0135 - f1: 0.9036\nEpoch 2/10\n64317/64317 [==============================] - 2s 26us/step - loss: 0.0137 - f1: 0.8805\nEpoch 3/10\n64317/64317 [==============================] - 2s 28us/step - loss: 0.0129 - f1: 0.9158\nEpoch 4/10\n64317/64317 [==============================] - 2s 27us/step - loss: 0.0140 - f1: 0.9074\nEpoch 5/10\n64317/64317 [==============================] - 2s 27us/step - loss: 0.0138 - f1: 0.8695\nEpoch 6/10\n64317/64317 [==============================] - 2s 29us/step - loss: 0.0133 - f1: 0.9048\nEpoch 7/10\n64317/64317 [==============================] - 2s 29us/step - loss: 0.0130 - f1: 0.9197\nEpoch 8/10\n64317/64317 [==============================] - 2s 29us/step - loss: 0.0131 - f1: 0.9159\nEpoch 9/10\n64317/64317 [==============================] - 2s 30us/step - loss: 0.0130 - f1: 0.9068\nEpoch 10/10\n64317/64317 [==============================] - 2s 30us/step - loss: 0.0131 - f1: 0.9224\n16080/16080 [==============================] - 0s 20us/step\n64317/64317 [==============================] - 1s 18us/step\n448\ncutoff 0.0017732382\nmissed_fraud 128\nmean missed fraud amt 0.1039897863581345\n1668\ncutoff 0.00037539005\nmissed_fraud 0\nmean missed fraud amt nan\nEpoch 1/12\n64317/64317 [==============================] - 2s 28us/step - loss: 0.0129 - f1: 0.9048\nEpoch 2/12\n64317/64317 [==============================] - 2s 27us/step - loss: 0.0131 - f1: 0.9125\nEpoch 3/12\n64317/64317 [==============================] - 2s 28us/step - loss: 0.0140 - f1: 0.9121\nEpoch 4/12\n64317/64317 [==============================] - 2s 27us/step - loss: 0.0132 - f1: 0.9129\nEpoch 5/12\n64317/64317 [==============================] - 2s 29us/step - loss: 0.0134 - f1: 0.9127\nEpoch 6/12\n64317/64317 [==============================] - 2s 29us/step - loss: 0.0137 - f1: 0.8919\nEpoch 7/12\n64317/64317 [==============================] - 2s 32us/step - loss: 0.0116 - f1: 0.9010\nEpoch 8/12\n64317/64317 [==============================] - 2s 31us/step - loss: 0.0132 - f1: 0.9220\nEpoch 9/12\n64317/64317 [==============================] - 2s 34us/step - loss: 0.0133 - f1: 0.9148\nEpoch 10/12\n64317/64317 [==============================] - 2s 35us/step - loss: 0.0128 - f1: 0.9103\nEpoch 11/12\n64317/64317 [==============================] - 2s 34us/step - loss: 0.0134 - f1: 0.8979\nEpoch 12/12\n64317/64317 [==============================] - 2s 33us/step - loss: 0.0144 - f1: 0.9146\n16080/16080 [==============================] - 0s 22us/step\n64317/64317 [==============================] - 2s 25us/step\n448\ncutoff 0.0022930503\nmissed_fraud 136\nmean missed fraud amt 0.11656728495059511\n1668\ncutoff 0.0007072389\nmissed_fraud 0\nmean missed fraud amt nan\nEpoch 1/14\n64317/64317 [==============================] - 2s 35us/step - loss: 0.0136 - f1: 0.8991\nEpoch 2/14\n64317/64317 [==============================] - 2s 33us/step - loss: 0.0131 - f1: 0.9154\nEpoch 3/14\n64317/64317 [==============================] - 2s 31us/step - loss: 0.0137 - f1: 0.8968\nEpoch 4/14\n64317/64317 [==============================] - 2s 31us/step - loss: 0.0153 - f1: 0.9079\nEpoch 5/14\n64317/64317 [==============================] - 2s 31us/step - loss: 0.0139 - f1: 0.9049\nEpoch 6/14\n64317/64317 [==============================] - 2s 30us/step - loss: 0.0136 - f1: 0.8966\nEpoch 7/14\n64317/64317 [==============================] - 2s 31us/step - loss: 0.0136 - f1: 0.9197\nEpoch 8/14\n64317/64317 [==============================] - 2s 32us/step - loss: 0.0126 - f1: 0.9069\nEpoch 9/14\n64317/64317 [==============================] - 2s 32us/step - loss: 0.0126 - f1: 0.9192\nEpoch 10/14\n64317/64317 [==============================] - 2s 32us/step - loss: 0.0135 - f1: 0.9209\nEpoch 11/14\n64317/64317 [==============================] - 2s 33us/step - loss: 0.0122 - f1: 0.9074\nEpoch 12/14\n64317/64317 [==============================] - 2s 34us/step - loss: 0.0141 - f1: 0.9096\nEpoch 13/14\n64317/64317 [==============================] - 2s 35us/step - loss: 0.0150 - f1: 0.9008\nEpoch 14/14\n64317/64317 [==============================] - 2s 34us/step - loss: 0.0140 - f1: 0.8969\n16080/16080 [==============================] - 0s 22us/step\n64317/64317 [==============================] - 1s 22us/step\n448\ncutoff 0.0015596449\nmissed_fraud 139\nmean missed fraud amt 0.09668388428516483\n1668\ncutoff 0.00044625998\nmissed_fraud 0\nmean missed fraud amt nan\nEpoch 1/16\n64317/64317 [==============================] - 2s 30us/step - loss: 0.0127 - f1: 0.9205\nEpoch 2/16\n64317/64317 [==============================] - 2s 31us/step - loss: 0.0134 - f1: 0.9114\nEpoch 3/16\n64317/64317 [==============================] - 2s 30us/step - loss: 0.0142 - f1: 0.9011\nEpoch 4/16\n64317/64317 [==============================] - 2s 31us/step - loss: 0.0139 - f1: 0.9053\nEpoch 5/16\n64317/64317 [==============================] - 2s 31us/step - loss: 0.0129 - f1: 0.9119\nEpoch 6/16\n64317/64317 [==============================] - 2s 32us/step - loss: 0.0135 - f1: 0.9018\nEpoch 7/16\n64317/64317 [==============================] - 2s 29us/step - loss: 0.0130 - f1: 0.9092\nEpoch 8/16\n64317/64317 [==============================] - 2s 29us/step - loss: 0.0123 - f1: 0.9123\nEpoch 9/16\n64317/64317 [==============================] - 2s 31us/step - loss: 0.0129 - f1: 0.9141\nEpoch 10/16\n64317/64317 [==============================] - 2s 32us/step - loss: 0.0132 - f1: 0.9216\nEpoch 11/16\n64317/64317 [==============================] - 2s 29us/step - loss: 0.0123 - f1: 0.9212\nEpoch 12/16\n64317/64317 [==============================] - 2s 30us/step - loss: 0.0132 - f1: 0.9046\nEpoch 13/16\n64317/64317 [==============================] - 2s 29us/step - loss: 0.0141 - f1: 0.8841\nEpoch 14/16\n64317/64317 [==============================] - 2s 29us/step - loss: 0.0159 - f1: 0.8874\nEpoch 15/16\n64317/64317 [==============================] - 2s 31us/step - loss: 0.0149 - f1: 0.9018\nEpoch 16/16\n64317/64317 [==============================] - 2s 31us/step - loss: 0.0147 - f1: 0.9002\n16080/16080 [==============================] - 0s 20us/step\n64317/64317 [==============================] - 1s 21us/step\n448\ncutoff 0.0022185147\nmissed_fraud 122\nmean missed fraud amt 0.09642853570529646\n1668\ncutoff 0.0005068481\nmissed_fraud 0\nmean missed fraud amt nan\nEpoch 1/18\n64317/64317 [==============================] - 2s 30us/step - loss: 0.0138 - f1: 0.9130\nEpoch 2/18\n64317/64317 [==============================] - 2s 30us/step - loss: 0.0130 - f1: 0.9001\nEpoch 3/18\n64317/64317 [==============================] - 2s 30us/step - loss: 0.0128 - f1: 0.9160\nEpoch 4/18\n64317/64317 [==============================] - 2s 30us/step - loss: 0.0132 - f1: 0.9139\nEpoch 5/18\n64317/64317 [==============================] - 2s 30us/step - loss: 0.0126 - f1: 0.9082\nEpoch 6/18\n64317/64317 [==============================] - 2s 32us/step - loss: 0.0129 - f1: 0.9097\nEpoch 7/18\n64317/64317 [==============================] - 2s 30us/step - loss: 0.0139 - f1: 0.9119\nEpoch 8/18\n64317/64317 [==============================] - 2s 30us/step - loss: 0.0141 - f1: 0.9120\nEpoch 9/18\n64317/64317 [==============================] - 2s 32us/step - loss: 0.0122 - f1: 0.9003\nEpoch 10/18\n64317/64317 [==============================] - 2s 30us/step - loss: 0.0123 - f1: 0.9164\nEpoch 11/18\n64317/64317 [==============================] - 2s 31us/step - loss: 0.0124 - f1: 0.9041\nEpoch 12/18\n64317/64317 [==============================] - 2s 29us/step - loss: 0.0126 - f1: 0.9143\nEpoch 13/18\n64317/64317 [==============================] - 2s 30us/step - loss: 0.0122 - f1: 0.9145\nEpoch 14/18\n64317/64317 [==============================] - 2s 29us/step - loss: 0.0133 - f1: 0.9170\nEpoch 15/18\n64317/64317 [==============================] - 2s 29us/step - loss: 0.0128 - f1: 0.9147\nEpoch 16/18\n64317/64317 [==============================] - 2s 30us/step - loss: 0.0120 - f1: 0.9226\nEpoch 17/18\n64317/64317 [==============================] - 2s 29us/step - loss: 0.0119 - f1: 0.9097\nEpoch 18/18\n64317/64317 [==============================] - 2s 30us/step - loss: 0.0129 - f1: 0.9124\n16080/16080 [==============================] - 0s 20us/step\n64317/64317 [==============================] - 1s 21us/step\n448\ncutoff 0.003600359\nmissed_fraud 138\nmean missed fraud amt 0.1280806141713295\n1668\ncutoff 0.0008774102\nmissed_fraud 0\nmean missed fraud amt nan\nEpoch 1/20\n64317/64317 [==============================] - 2s 30us/step - loss: 0.0124 - f1: 0.9236\nEpoch 2/20\n64317/64317 [==============================] - 2s 33us/step - loss: 0.0129 - f1: 0.9101\nEpoch 3/20\n64317/64317 [==============================] - 2s 31us/step - loss: 0.0119 - f1: 0.8925\nEpoch 4/20\n64317/64317 [==============================] - 2s 32us/step - loss: 0.0146 - f1: 0.9140\nEpoch 5/20\n64317/64317 [==============================] - 2s 30us/step - loss: 0.0135 - f1: 0.9044\nEpoch 6/20\n64317/64317 [==============================] - 2s 29us/step - loss: 0.0128 - f1: 0.9031\nEpoch 7/20\n64317/64317 [==============================] - 2s 28us/step - loss: 0.0129 - f1: 0.8937\nEpoch 8/20\n64317/64317 [==============================] - 2s 28us/step - loss: 0.0126 - f1: 0.9226\nEpoch 9/20\n64317/64317 [==============================] - 2s 30us/step - loss: 0.0126 - f1: 0.8988\nEpoch 10/20\n64317/64317 [==============================] - 2s 30us/step - loss: 0.0126 - f1: 0.9120\nEpoch 11/20\n64317/64317 [==============================] - 2s 29us/step - loss: 0.0133 - f1: 0.9183\nEpoch 12/20\n64317/64317 [==============================] - 2s 31us/step - loss: 0.0119 - f1: 0.9132\nEpoch 13/20\n64317/64317 [==============================] - 2s 30us/step - loss: 0.0112 - f1: 0.9112\nEpoch 14/20\n64317/64317 [==============================] - 2s 29us/step - loss: 0.0121 - f1: 0.9147\nEpoch 15/20\n64317/64317 [==============================] - 2s 30us/step - loss: 0.0124 - f1: 0.9067\nEpoch 16/20\n64317/64317 [==============================] - 2s 31us/step - loss: 0.0127 - f1: 0.9081\nEpoch 17/20\n64317/64317 [==============================] - 2s 31us/step - loss: 0.0140 - f1: 0.9117\nEpoch 18/20\n64317/64317 [==============================] - 2s 31us/step - loss: 0.0119 - f1: 0.8816\nEpoch 19/20\n64317/64317 [==============================] - 2s 30us/step - loss: 0.0122 - f1: 0.9155\nEpoch 20/20\n64317/64317 [==============================] - 2s 31us/step - loss: 0.0142 - f1: 0.9015\n16080/16080 [==============================] - 0s 22us/step\n64317/64317 [==============================] - 1s 21us/step\n448\ncutoff 0.0023931265\nmissed_fraud 136\nmean missed fraud amt 0.16431232680202332\n1668\ncutoff 0.0006919801\nmissed_fraud 0\nmean missed fraud amt nan\nEpoch 1/22\n64317/64317 [==============================] - 2s 30us/step - loss: 0.0128 - f1: 0.9089\nEpoch 2/22\n64317/64317 [==============================] - 2s 30us/step - loss: 0.0135 - f1: 0.9217\nEpoch 3/22\n64317/64317 [==============================] - 2s 29us/step - loss: 0.0125 - f1: 0.9163\nEpoch 4/22\n64317/64317 [==============================] - 2s 30us/step - loss: 0.0117 - f1: 0.9242\nEpoch 5/22\n64317/64317 [==============================] - 2s 29us/step - loss: 0.0135 - f1: 0.9094\nEpoch 6/22\n64317/64317 [==============================] - 2s 30us/step - loss: 0.0123 - f1: 0.9232\nEpoch 7/22\n64317/64317 [==============================] - 2s 31us/step - loss: 0.0129 - f1: 0.9162\nEpoch 8/22\n64317/64317 [==============================] - 2s 30us/step - loss: 0.0120 - f1: 0.9117\nEpoch 9/22\n64317/64317 [==============================] - 2s 31us/step - loss: 0.0132 - f1: 0.9004\nEpoch 10/22\n64317/64317 [==============================] - 2s 30us/step - loss: 0.0121 - f1: 0.8998\nEpoch 11/22\n64317/64317 [==============================] - 2s 29us/step - loss: 0.0162 - f1: 0.8841\nEpoch 12/22\n64317/64317 [==============================] - 2s 30us/step - loss: 0.0138 - f1: 0.8876\nEpoch 13/22\n64317/64317 [==============================] - 2s 31us/step - loss: 0.0146 - f1: 0.8973\nEpoch 14/22\n64317/64317 [==============================] - 2s 31us/step - loss: 0.0139 - f1: 0.9134\nEpoch 15/22\n64317/64317 [==============================] - 2s 30us/step - loss: 0.0152 - f1: 0.9075\nEpoch 16/22\n64317/64317 [==============================] - 2s 31us/step - loss: 0.0141 - f1: 0.8964\nEpoch 17/22\n64317/64317 [==============================] - 2s 29us/step - loss: 0.0118 - f1: 0.9211\nEpoch 18/22\n64317/64317 [==============================] - 2s 30us/step - loss: 0.0123 - f1: 0.8967\nEpoch 19/22\n64317/64317 [==============================] - 2s 30us/step - loss: 0.0140 - f1: 0.9064\nEpoch 20/22\n64317/64317 [==============================] - 2s 28us/step - loss: 0.0138 - f1: 0.9093\nEpoch 21/22\n64317/64317 [==============================] - 2s 28us/step - loss: 0.0129 - f1: 0.8954\nEpoch 22/22\n64317/64317 [==============================] - 2s 28us/step - loss: 0.0135 - f1: 0.8791\n16080/16080 [==============================] - 0s 22us/step\n64317/64317 [==============================] - 1s 19us/step\n448\ncutoff 0.0017578602\nmissed_fraud 133\nmean missed fraud amt 0.18747200843375875\n1668\ncutoff 0.0005803704\nmissed_fraud 0\nmean missed fraud amt nan\n"
    }
   ],
   "source": [
    "results = []\n",
    "epoch_set = list(np.arange (2, 24, 2))\n",
    "X_train = get_input_features(tr_df)\n",
    "X_valid = get_input_features(val_df)\n",
    "X_test = get_input_features(test_df)\n",
    "y_train = tr_df[target]\n",
    "y_valid = val_df[target]\n",
    "tr_df_pred = deepcopy(tr_df)\n",
    "\n",
    "for epo in epoch_set:\n",
    "    hist = model.fit(X_train,y_train, batch_size = 8000, epochs = epo, verbose = 1)\n",
    "    valid_preds = model.predict(X_valid, batch_size = 500, verbose = True)\n",
    "    train_preds = model.predict(X_train, batch_size = 500, verbose = True)\n",
    "\n",
    "    val_df_pred[target]=valid_preds\n",
    "    tr_df_pred[target]=train_preds\n",
    "    score_1 = compute_loss(val_df_pred, val_df, 1608)\n",
    "    score_2 = compute_loss(tr_df_pred, tr_df, 6432)\n",
    "\n",
    "    results.append([epo, score_1, score_2])"
   ]
  },
  {
   "cell_type": "code",
   "execution_count": 80,
   "metadata": {},
   "outputs": [
    {
     "output_type": "execute_result",
     "data": {
      "text/plain": "[[2, 15.97358777019543, 0.0],\n [4, 11.606216989079144, 0.0],\n [6, 20.414396338368007, 0.0],\n [8, 17.960212559921125, 0.0],\n [10, 13.310692653841215, 0.0],\n [12, 15.853150753280936, 0.0],\n [14, 13.439059915637912, 0.0],\n [16, 11.764281356046167, 0.0],\n [18, 17.67512475564347, 0.0],\n [20, 22.346476445075172, 0.0],\n [22, 24.933777121689914, 0.0]]"
     },
     "metadata": {},
     "execution_count": 80
    }
   ],
   "source": [
    "results"
   ]
  },
  {
   "cell_type": "markdown",
   "metadata": {},
   "source": [
    "As we can see above, the real loss fluctuate each time when we tune for the epoch. Overall, when epoch equal to 5, the real loss is smaller."
   ]
  },
  {
   "cell_type": "markdown",
   "metadata": {},
   "source": [
    "## Prediction on the Testset"
   ]
  },
  {
   "cell_type": "code",
   "execution_count": 81,
   "metadata": {
    "tags": []
   },
   "outputs": [
    {
     "output_type": "stream",
     "name": "stdout",
     "text": "Epoch 1/5\n64317/64317 [==============================] - 2s 23us/step - loss: 0.0139 - f1: 0.9014\nEpoch 2/5\n64317/64317 [==============================] - 1s 23us/step - loss: 0.0130 - f1: 0.9207\nEpoch 3/5\n64317/64317 [==============================] - 1s 23us/step - loss: 0.0132 - f1: 0.9012\nEpoch 4/5\n64317/64317 [==============================] - 1s 23us/step - loss: 0.0139 - f1: 0.9029\nEpoch 5/5\n64317/64317 [==============================] - 2s 26us/step - loss: 0.0132 - f1: 0.9144\n10000/10000 [==============================] - 0s 18us/step\n"
    }
   ],
   "source": [
    "X_test = get_input_features(test_df)\n",
    "\n",
    "hist = model.fit(X_train,y_train, batch_size = 8000, epochs = 5, verbose = 1)\n",
    "test_preds = model.predict(X_test, batch_size = 500, verbose = True)\n",
    "sample_submission['isFraud'] = test_preds\n",
    "sample_submission.to_csv('prediction_submission.csv')"
   ]
  },
  {
   "cell_type": "code",
   "execution_count": null,
   "metadata": {},
   "outputs": [],
   "source": []
  }
 ],
 "metadata": {
  "kernelspec": {
   "display_name": "Python 3",
   "language": "python",
   "name": "python3"
  },
  "language_info": {
   "codemirror_mode": {
    "name": "ipython",
    "version": 3
   },
   "file_extension": ".py",
   "mimetype": "text/x-python",
   "name": "python",
   "nbconvert_exporter": "python",
   "pygments_lexer": "ipython3",
   "version": "3.6.10"
  }
 },
 "nbformat": 4,
 "nbformat_minor": 1
}